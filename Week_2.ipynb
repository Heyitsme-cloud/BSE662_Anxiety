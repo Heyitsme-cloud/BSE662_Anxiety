{
  "nbformat": 4,
  "nbformat_minor": 0,
  "metadata": {
    "colab": {
      "provenance": [],
      "mount_file_id": "1YwCBn3lNvMkaQK30ZXKHAK030sxa-MeQ",
      "authorship_tag": "ABX9TyMHoKqhEZAGoEFI5H7VBcz8",
      "include_colab_link": true
    },
    "kernelspec": {
      "name": "python3",
      "display_name": "Python 3"
    },
    "language_info": {
      "name": "python"
    }
  },
  "cells": [
    {
      "cell_type": "markdown",
      "metadata": {
        "id": "view-in-github",
        "colab_type": "text"
      },
      "source": [
        "<a href=\"https://colab.research.google.com/github/Heyitsme-cloud/BSE662_Anxiety/blob/main/Week_2.ipynb\" target=\"_parent\"><img src=\"https://colab.research.google.com/assets/colab-badge.svg\" alt=\"Open In Colab\"/></a>"
      ]
    },
    {
      "cell_type": "code",
      "execution_count": 3,
      "metadata": {
        "colab": {
          "base_uri": "https://localhost:8080/"
        },
        "id": "xKLIau6mAj76",
        "outputId": "1581cd6a-683e-4c7f-9baf-48dd0b8367fe"
      },
      "outputs": [
        {
          "output_type": "stream",
          "name": "stdout",
          "text": [
            "Requirement already satisfied: mne==1.8 in /usr/local/lib/python3.11/dist-packages (1.8.0)\n",
            "Requirement already satisfied: decorator in /usr/local/lib/python3.11/dist-packages (from mne==1.8) (4.4.2)\n",
            "Requirement already satisfied: jinja2 in /usr/local/lib/python3.11/dist-packages (from mne==1.8) (3.1.6)\n",
            "Requirement already satisfied: lazy-loader>=0.3 in /usr/local/lib/python3.11/dist-packages (from mne==1.8) (0.4)\n",
            "Requirement already satisfied: matplotlib>=3.6 in /usr/local/lib/python3.11/dist-packages (from mne==1.8) (3.10.0)\n",
            "Requirement already satisfied: numpy<3,>=1.23 in /usr/local/lib/python3.11/dist-packages (from mne==1.8) (2.0.2)\n",
            "Requirement already satisfied: packaging in /usr/local/lib/python3.11/dist-packages (from mne==1.8) (24.2)\n",
            "Requirement already satisfied: pooch>=1.5 in /usr/local/lib/python3.11/dist-packages (from mne==1.8) (1.8.2)\n",
            "Requirement already satisfied: scipy>=1.9 in /usr/local/lib/python3.11/dist-packages (from mne==1.8) (1.14.1)\n",
            "Requirement already satisfied: tqdm in /usr/local/lib/python3.11/dist-packages (from mne==1.8) (4.67.1)\n",
            "Requirement already satisfied: contourpy>=1.0.1 in /usr/local/lib/python3.11/dist-packages (from matplotlib>=3.6->mne==1.8) (1.3.1)\n",
            "Requirement already satisfied: cycler>=0.10 in /usr/local/lib/python3.11/dist-packages (from matplotlib>=3.6->mne==1.8) (0.12.1)\n",
            "Requirement already satisfied: fonttools>=4.22.0 in /usr/local/lib/python3.11/dist-packages (from matplotlib>=3.6->mne==1.8) (4.56.0)\n",
            "Requirement already satisfied: kiwisolver>=1.3.1 in /usr/local/lib/python3.11/dist-packages (from matplotlib>=3.6->mne==1.8) (1.4.8)\n",
            "Requirement already satisfied: pillow>=8 in /usr/local/lib/python3.11/dist-packages (from matplotlib>=3.6->mne==1.8) (11.1.0)\n",
            "Requirement already satisfied: pyparsing>=2.3.1 in /usr/local/lib/python3.11/dist-packages (from matplotlib>=3.6->mne==1.8) (3.2.1)\n",
            "Requirement already satisfied: python-dateutil>=2.7 in /usr/local/lib/python3.11/dist-packages (from matplotlib>=3.6->mne==1.8) (2.8.2)\n",
            "Requirement already satisfied: platformdirs>=2.5.0 in /usr/local/lib/python3.11/dist-packages (from pooch>=1.5->mne==1.8) (4.3.7)\n",
            "Requirement already satisfied: requests>=2.19.0 in /usr/local/lib/python3.11/dist-packages (from pooch>=1.5->mne==1.8) (2.32.3)\n",
            "Requirement already satisfied: MarkupSafe>=2.0 in /usr/local/lib/python3.11/dist-packages (from jinja2->mne==1.8) (3.0.2)\n",
            "Requirement already satisfied: six>=1.5 in /usr/local/lib/python3.11/dist-packages (from python-dateutil>=2.7->matplotlib>=3.6->mne==1.8) (1.17.0)\n",
            "Requirement already satisfied: charset-normalizer<4,>=2 in /usr/local/lib/python3.11/dist-packages (from requests>=2.19.0->pooch>=1.5->mne==1.8) (3.4.1)\n",
            "Requirement already satisfied: idna<4,>=2.5 in /usr/local/lib/python3.11/dist-packages (from requests>=2.19.0->pooch>=1.5->mne==1.8) (3.10)\n",
            "Requirement already satisfied: urllib3<3,>=1.21.1 in /usr/local/lib/python3.11/dist-packages (from requests>=2.19.0->pooch>=1.5->mne==1.8) (2.3.0)\n",
            "Requirement already satisfied: certifi>=2017.4.17 in /usr/local/lib/python3.11/dist-packages (from requests>=2.19.0->pooch>=1.5->mne==1.8) (2025.1.31)\n",
            "Drive already mounted at /content/drive; to attempt to forcibly remount, call drive.mount(\"/content/drive\", force_remount=True).\n",
            "Processing file: /content/drive/My Drive/Processed_EEG_Data/47131_cleaned.fif\n",
            "Opening raw data file /content/drive/My Drive/Processed_EEG_Data/47131_cleaned.fif...\n",
            "    Range : 0 ... 1277499 =      0.000 ...  5109.996 secs\n",
            "Ready.\n",
            "Reading 0 ... 1277499  =      0.000 ...  5109.996 secs...\n"
          ]
        },
        {
          "output_type": "stream",
          "name": "stderr",
          "text": [
            "<ipython-input-3-765aa100074c>:27: RuntimeWarning: This filename (/content/drive/My Drive/Processed_EEG_Data/47131_cleaned.fif) does not conform to MNE naming conventions. All raw files should end with raw.fif, raw_sss.fif, raw_tsss.fif, _meg.fif, _eeg.fif, _ieeg.fif, raw.fif.gz, raw_sss.fif.gz, raw_tsss.fif.gz, _meg.fif.gz, _eeg.fif.gz or _ieeg.fif.gz\n",
            "  raw = mne.io.read_raw_fif(fif_file, preload=True)\n"
          ]
        },
        {
          "output_type": "stream",
          "name": "stdout",
          "text": [
            "['T4', 'A2', 'C3', 'C4', 'A1', 'T3', 'O1', 'T5', 'O2', 'F8', 'T6', 'FZ', 'FP2', 'F7', 'FP1', 'CZ', 'F3', 'F4', 'FCz']\n",
            "Processing file: /content/drive/My Drive/Processed_EEG_Data/31730_cleaned.fif\n",
            "Opening raw data file /content/drive/My Drive/Processed_EEG_Data/31730_cleaned.fif...\n"
          ]
        },
        {
          "output_type": "stream",
          "name": "stderr",
          "text": [
            "<ipython-input-3-765aa100074c>:27: RuntimeWarning: This filename (/content/drive/My Drive/Processed_EEG_Data/31730_cleaned.fif) does not conform to MNE naming conventions. All raw files should end with raw.fif, raw_sss.fif, raw_tsss.fif, _meg.fif, _eeg.fif, _ieeg.fif, raw.fif.gz, raw_sss.fif.gz, raw_tsss.fif.gz, _meg.fif.gz, _eeg.fif.gz or _ieeg.fif.gz\n",
            "  raw = mne.io.read_raw_fif(fif_file, preload=True)\n"
          ]
        },
        {
          "output_type": "stream",
          "name": "stdout",
          "text": [
            "    Range : 0 ... 1322499 =      0.000 ...  5289.996 secs\n",
            "Ready.\n",
            "Reading 0 ... 1322499  =      0.000 ...  5289.996 secs...\n",
            "['T4', 'A2', 'C3', 'C4', 'A1', 'T3', 'O1', 'T5', 'O2', 'F8', 'T6', 'FZ', 'FP2', 'F7', 'FP1', 'CZ', 'F3', 'F4', 'FCz']\n",
            "Processing file: /content/drive/My Drive/Processed_EEG_Data/48238_cleaned.fif\n",
            "Opening raw data file /content/drive/My Drive/Processed_EEG_Data/48238_cleaned.fif...\n"
          ]
        },
        {
          "output_type": "stream",
          "name": "stderr",
          "text": [
            "<ipython-input-3-765aa100074c>:27: RuntimeWarning: This filename (/content/drive/My Drive/Processed_EEG_Data/48238_cleaned.fif) does not conform to MNE naming conventions. All raw files should end with raw.fif, raw_sss.fif, raw_tsss.fif, _meg.fif, _eeg.fif, _ieeg.fif, raw.fif.gz, raw_sss.fif.gz, raw_tsss.fif.gz, _meg.fif.gz, _eeg.fif.gz or _ieeg.fif.gz\n",
            "  raw = mne.io.read_raw_fif(fif_file, preload=True)\n"
          ]
        },
        {
          "output_type": "stream",
          "name": "stdout",
          "text": [
            "    Range : 0 ... 1298099 =      0.000 ...  5192.396 secs\n",
            "Ready.\n",
            "Reading 0 ... 1298099  =      0.000 ...  5192.396 secs...\n",
            "['T4', 'A2', 'C3', 'C4', 'A1', 'T3', 'O1', 'T5', 'O2', 'F8', 'T6', 'FZ', 'FP2', 'F7', 'FP1', 'CZ', 'F3', 'F4', 'FCz']\n",
            "Processing file: /content/drive/My Drive/Processed_EEG_Data/47204_cleaned.fif\n",
            "Opening raw data file /content/drive/My Drive/Processed_EEG_Data/47204_cleaned.fif...\n"
          ]
        },
        {
          "output_type": "stream",
          "name": "stderr",
          "text": [
            "<ipython-input-3-765aa100074c>:27: RuntimeWarning: This filename (/content/drive/My Drive/Processed_EEG_Data/47204_cleaned.fif) does not conform to MNE naming conventions. All raw files should end with raw.fif, raw_sss.fif, raw_tsss.fif, _meg.fif, _eeg.fif, _ieeg.fif, raw.fif.gz, raw_sss.fif.gz, raw_tsss.fif.gz, _meg.fif.gz, _eeg.fif.gz or _ieeg.fif.gz\n",
            "  raw = mne.io.read_raw_fif(fif_file, preload=True)\n"
          ]
        },
        {
          "output_type": "stream",
          "name": "stdout",
          "text": [
            "    Range : 0 ... 1190899 =      0.000 ...  4763.596 secs\n",
            "Ready.\n",
            "Reading 0 ... 1190899  =      0.000 ...  4763.596 secs...\n",
            "['T4', 'A2', 'C3', 'C4', 'A1', 'T3', 'O1', 'T5', 'O2', 'F8', 'T6', 'FZ', 'FP2', 'F7', 'FP1', 'CZ', 'F3', 'F4', 'FCz']\n",
            "Processing file: /content/drive/My Drive/Processed_EEG_Data/47324_cleaned.fif\n",
            "Opening raw data file /content/drive/My Drive/Processed_EEG_Data/47324_cleaned.fif...\n"
          ]
        },
        {
          "output_type": "stream",
          "name": "stderr",
          "text": [
            "<ipython-input-3-765aa100074c>:27: RuntimeWarning: This filename (/content/drive/My Drive/Processed_EEG_Data/47324_cleaned.fif) does not conform to MNE naming conventions. All raw files should end with raw.fif, raw_sss.fif, raw_tsss.fif, _meg.fif, _eeg.fif, _ieeg.fif, raw.fif.gz, raw_sss.fif.gz, raw_tsss.fif.gz, _meg.fif.gz, _eeg.fif.gz or _ieeg.fif.gz\n",
            "  raw = mne.io.read_raw_fif(fif_file, preload=True)\n"
          ]
        },
        {
          "output_type": "stream",
          "name": "stdout",
          "text": [
            "    Range : 0 ... 1396599 =      0.000 ...  5586.396 secs\n",
            "Ready.\n",
            "Reading 0 ... 1396599  =      0.000 ...  5586.396 secs...\n",
            "['T4', 'A2', 'C3', 'C4', 'A1', 'T3', 'O1', 'T5', 'O2', 'F8', 'T6', 'FZ', 'FP2', 'F7', 'FP1', 'CZ', 'F3', 'F4', 'FCz']\n",
            "Processing file: /content/drive/My Drive/Processed_EEG_Data/43000_cleaned.fif\n",
            "Opening raw data file /content/drive/My Drive/Processed_EEG_Data/43000_cleaned.fif...\n"
          ]
        },
        {
          "output_type": "stream",
          "name": "stderr",
          "text": [
            "<ipython-input-3-765aa100074c>:27: RuntimeWarning: This filename (/content/drive/My Drive/Processed_EEG_Data/43000_cleaned.fif) does not conform to MNE naming conventions. All raw files should end with raw.fif, raw_sss.fif, raw_tsss.fif, _meg.fif, _eeg.fif, _ieeg.fif, raw.fif.gz, raw_sss.fif.gz, raw_tsss.fif.gz, _meg.fif.gz, _eeg.fif.gz or _ieeg.fif.gz\n",
            "  raw = mne.io.read_raw_fif(fif_file, preload=True)\n"
          ]
        },
        {
          "output_type": "stream",
          "name": "stdout",
          "text": [
            "    Range : 0 ... 1262749 =      0.000 ...  5050.996 secs\n",
            "Ready.\n",
            "Reading 0 ... 1262749  =      0.000 ...  5050.996 secs...\n",
            "['T4', 'A2', 'C3', 'C4', 'A1', 'T3', 'O1', 'T5', 'O2', 'F8', 'T6', 'FZ', 'FP2', 'F7', 'FP1', 'CZ', 'F3', 'F4', 'FCz']\n"
          ]
        }
      ],
      "source": [
        "# Mount Google Drive\n",
        "!pip install mne==1.8\n",
        "from google.colab import drive\n",
        "import os\n",
        "import mne\n",
        "import numpy as np\n",
        "import pandas as pd\n",
        "\n",
        "# Mount Google Drive to access your files\n",
        "drive.mount('/content/drive')\n",
        "\n",
        "# Define the path to the folder containing .fif files in your Google Drive\n",
        "fif_folder_path = '/content/drive/My Drive/Processed_EEG_Data'  # Replace with your folder path\n",
        "\n",
        "# List all .fif files in the folder\n",
        "fif_files = [os.path.join(fif_folder_path, f) for f in os.listdir(fif_folder_path) if f.endswith('.fif')]\n",
        "\n",
        "# Create a directory to save processed data\n",
        "output_folder = '/content/drive/My Drive/epoched_data'\n",
        "os.makedirs(output_folder, exist_ok=True)\n",
        "\n",
        "# Loop through each .fif file and preprocess it\n",
        "for fif_file in fif_files:\n",
        "    print(f\"Processing file: {fif_file}\")\n",
        "\n",
        "    # Load the EEG data\n",
        "    raw = mne.io.read_raw_fif(fif_file, preload=True)\n",
        "\n",
        "    print(raw.info['ch_names'])\n"
      ]
    },
    {
      "cell_type": "code",
      "source": [
        "import mne\n",
        "# Define the path to the folder containing .fif files in your Google Drive\n",
        "fif_folder_path = '/content/drive/My Drive/Processed_EEG_Data'  # Replace with your folder path\n",
        "\n",
        "# List all .fif files in the folder\n",
        "fif_files = [os.path.join(fif_folder_path, f) for f in os.listdir(fif_folder_path) if f.endswith('.fif')]\n",
        "\n",
        "# Loop through each .fif file and preprocess it\n",
        "for fif_file in fif_files:\n",
        "    print(f\"Processing file: {fif_file}\")\n",
        "\n",
        "    # Load the EEG data\n",
        "    raw = mne.io.read_raw_fif(fif_file, preload=True)\n",
        "    for ch in raw.info['chs']:\n",
        "      ch['highpass'] = 0.5  # Set highpass to 0.5 Hz\n",
        "      ch['lowpass'] = 90.0  # Set lowpass to 90 Hz\n",
        "\n",
        "# Verify that the keys have been added\n",
        "for ch in raw.info['chs']:\n",
        "    print(f\"Channel {ch['ch_name']} - Highpass: {ch['highpass']}, Lowpass: {ch['lowpass']}\")\n"
      ],
      "metadata": {
        "colab": {
          "base_uri": "https://localhost:8080/"
        },
        "id": "HWcUHE0dFrhn",
        "outputId": "760b6d1b-2a15-4304-83ab-a9d6767d2847"
      },
      "execution_count": 11,
      "outputs": [
        {
          "output_type": "stream",
          "name": "stdout",
          "text": [
            "Processing file: /content/drive/My Drive/Processed_EEG_Data/47131_cleaned.fif\n",
            "Opening raw data file /content/drive/My Drive/Processed_EEG_Data/47131_cleaned.fif...\n"
          ]
        },
        {
          "output_type": "stream",
          "name": "stderr",
          "text": [
            "<ipython-input-11-c6b6c43c6200>:13: RuntimeWarning: This filename (/content/drive/My Drive/Processed_EEG_Data/47131_cleaned.fif) does not conform to MNE naming conventions. All raw files should end with raw.fif, raw_sss.fif, raw_tsss.fif, _meg.fif, _eeg.fif, _ieeg.fif, raw.fif.gz, raw_sss.fif.gz, raw_tsss.fif.gz, _meg.fif.gz, _eeg.fif.gz or _ieeg.fif.gz\n",
            "  raw = mne.io.read_raw_fif(fif_file, preload=True)\n"
          ]
        },
        {
          "output_type": "stream",
          "name": "stdout",
          "text": [
            "    Range : 0 ... 1277499 =      0.000 ...  5109.996 secs\n",
            "Ready.\n",
            "Reading 0 ... 1277499  =      0.000 ...  5109.996 secs...\n",
            "Processing file: /content/drive/My Drive/Processed_EEG_Data/31730_cleaned.fif\n",
            "Opening raw data file /content/drive/My Drive/Processed_EEG_Data/31730_cleaned.fif...\n"
          ]
        },
        {
          "output_type": "stream",
          "name": "stderr",
          "text": [
            "<ipython-input-11-c6b6c43c6200>:13: RuntimeWarning: This filename (/content/drive/My Drive/Processed_EEG_Data/31730_cleaned.fif) does not conform to MNE naming conventions. All raw files should end with raw.fif, raw_sss.fif, raw_tsss.fif, _meg.fif, _eeg.fif, _ieeg.fif, raw.fif.gz, raw_sss.fif.gz, raw_tsss.fif.gz, _meg.fif.gz, _eeg.fif.gz or _ieeg.fif.gz\n",
            "  raw = mne.io.read_raw_fif(fif_file, preload=True)\n"
          ]
        },
        {
          "output_type": "stream",
          "name": "stdout",
          "text": [
            "    Range : 0 ... 1322499 =      0.000 ...  5289.996 secs\n",
            "Ready.\n",
            "Reading 0 ... 1322499  =      0.000 ...  5289.996 secs...\n",
            "Processing file: /content/drive/My Drive/Processed_EEG_Data/48238_cleaned.fif\n",
            "Opening raw data file /content/drive/My Drive/Processed_EEG_Data/48238_cleaned.fif...\n"
          ]
        },
        {
          "output_type": "stream",
          "name": "stderr",
          "text": [
            "<ipython-input-11-c6b6c43c6200>:13: RuntimeWarning: This filename (/content/drive/My Drive/Processed_EEG_Data/48238_cleaned.fif) does not conform to MNE naming conventions. All raw files should end with raw.fif, raw_sss.fif, raw_tsss.fif, _meg.fif, _eeg.fif, _ieeg.fif, raw.fif.gz, raw_sss.fif.gz, raw_tsss.fif.gz, _meg.fif.gz, _eeg.fif.gz or _ieeg.fif.gz\n",
            "  raw = mne.io.read_raw_fif(fif_file, preload=True)\n"
          ]
        },
        {
          "output_type": "stream",
          "name": "stdout",
          "text": [
            "    Range : 0 ... 1298099 =      0.000 ...  5192.396 secs\n",
            "Ready.\n",
            "Reading 0 ... 1298099  =      0.000 ...  5192.396 secs...\n",
            "Processing file: /content/drive/My Drive/Processed_EEG_Data/47204_cleaned.fif\n",
            "Opening raw data file /content/drive/My Drive/Processed_EEG_Data/47204_cleaned.fif...\n"
          ]
        },
        {
          "output_type": "stream",
          "name": "stderr",
          "text": [
            "<ipython-input-11-c6b6c43c6200>:13: RuntimeWarning: This filename (/content/drive/My Drive/Processed_EEG_Data/47204_cleaned.fif) does not conform to MNE naming conventions. All raw files should end with raw.fif, raw_sss.fif, raw_tsss.fif, _meg.fif, _eeg.fif, _ieeg.fif, raw.fif.gz, raw_sss.fif.gz, raw_tsss.fif.gz, _meg.fif.gz, _eeg.fif.gz or _ieeg.fif.gz\n",
            "  raw = mne.io.read_raw_fif(fif_file, preload=True)\n"
          ]
        },
        {
          "output_type": "stream",
          "name": "stdout",
          "text": [
            "    Range : 0 ... 1190899 =      0.000 ...  4763.596 secs\n",
            "Ready.\n",
            "Reading 0 ... 1190899  =      0.000 ...  4763.596 secs...\n",
            "Processing file: /content/drive/My Drive/Processed_EEG_Data/47324_cleaned.fif\n",
            "Opening raw data file /content/drive/My Drive/Processed_EEG_Data/47324_cleaned.fif...\n"
          ]
        },
        {
          "output_type": "stream",
          "name": "stderr",
          "text": [
            "<ipython-input-11-c6b6c43c6200>:13: RuntimeWarning: This filename (/content/drive/My Drive/Processed_EEG_Data/47324_cleaned.fif) does not conform to MNE naming conventions. All raw files should end with raw.fif, raw_sss.fif, raw_tsss.fif, _meg.fif, _eeg.fif, _ieeg.fif, raw.fif.gz, raw_sss.fif.gz, raw_tsss.fif.gz, _meg.fif.gz, _eeg.fif.gz or _ieeg.fif.gz\n",
            "  raw = mne.io.read_raw_fif(fif_file, preload=True)\n"
          ]
        },
        {
          "output_type": "stream",
          "name": "stdout",
          "text": [
            "    Range : 0 ... 1396599 =      0.000 ...  5586.396 secs\n",
            "Ready.\n",
            "Reading 0 ... 1396599  =      0.000 ...  5586.396 secs...\n",
            "Processing file: /content/drive/My Drive/Processed_EEG_Data/43000_cleaned.fif\n",
            "Opening raw data file /content/drive/My Drive/Processed_EEG_Data/43000_cleaned.fif...\n"
          ]
        },
        {
          "output_type": "stream",
          "name": "stderr",
          "text": [
            "<ipython-input-11-c6b6c43c6200>:13: RuntimeWarning: This filename (/content/drive/My Drive/Processed_EEG_Data/43000_cleaned.fif) does not conform to MNE naming conventions. All raw files should end with raw.fif, raw_sss.fif, raw_tsss.fif, _meg.fif, _eeg.fif, _ieeg.fif, raw.fif.gz, raw_sss.fif.gz, raw_tsss.fif.gz, _meg.fif.gz, _eeg.fif.gz or _ieeg.fif.gz\n",
            "  raw = mne.io.read_raw_fif(fif_file, preload=True)\n"
          ]
        },
        {
          "output_type": "stream",
          "name": "stdout",
          "text": [
            "    Range : 0 ... 1262749 =      0.000 ...  5050.996 secs\n",
            "Ready.\n",
            "Reading 0 ... 1262749  =      0.000 ...  5050.996 secs...\n",
            "Channel T4 - Highpass: 0.5, Lowpass: 90.0\n",
            "Channel A2 - Highpass: 0.5, Lowpass: 90.0\n",
            "Channel C3 - Highpass: 0.5, Lowpass: 90.0\n",
            "Channel C4 - Highpass: 0.5, Lowpass: 90.0\n",
            "Channel A1 - Highpass: 0.5, Lowpass: 90.0\n",
            "Channel T3 - Highpass: 0.5, Lowpass: 90.0\n",
            "Channel O1 - Highpass: 0.5, Lowpass: 90.0\n",
            "Channel T5 - Highpass: 0.5, Lowpass: 90.0\n",
            "Channel O2 - Highpass: 0.5, Lowpass: 90.0\n",
            "Channel F8 - Highpass: 0.5, Lowpass: 90.0\n",
            "Channel T6 - Highpass: 0.5, Lowpass: 90.0\n",
            "Channel FZ - Highpass: 0.5, Lowpass: 90.0\n",
            "Channel FP2 - Highpass: 0.5, Lowpass: 90.0\n",
            "Channel F7 - Highpass: 0.5, Lowpass: 90.0\n",
            "Channel FP1 - Highpass: 0.5, Lowpass: 90.0\n",
            "Channel CZ - Highpass: 0.5, Lowpass: 90.0\n",
            "Channel F3 - Highpass: 0.5, Lowpass: 90.0\n",
            "Channel F4 - Highpass: 0.5, Lowpass: 90.0\n",
            "Channel FCz - Highpass: 0.5, Lowpass: 90.0\n"
          ]
        }
      ]
    },
    {
      "cell_type": "code",
      "source": [
        "for fif_file in fif_files:\n",
        "    print(f\"Processing file: {fif_file}\")\n",
        "\n",
        "    # Load the raw data\n",
        "    raw = mne.io.read_raw_fif(fif_file, preload=True)\n",
        "    updated_file_name = os.path.join(output_folder, f\"updated_{os.path.basename(fif_file)}\")\n",
        "    raw.save(updated_file_name, overwrite=True)\n",
        "\n",
        "    print(f\"Saved updated file: {updated_file_name}\")"
      ],
      "metadata": {
        "colab": {
          "base_uri": "https://localhost:8080/"
        },
        "id": "EiiruEFbHIGZ",
        "outputId": "8050f39f-a1cc-4303-fb6a-5f3d46382e5b"
      },
      "execution_count": 13,
      "outputs": [
        {
          "output_type": "stream",
          "name": "stdout",
          "text": [
            "Processing file: /content/drive/My Drive/Processed_EEG_Data/47131_cleaned.fif\n",
            "Opening raw data file /content/drive/My Drive/Processed_EEG_Data/47131_cleaned.fif...\n"
          ]
        },
        {
          "output_type": "stream",
          "name": "stderr",
          "text": [
            "<ipython-input-13-42b744fdb115>:5: RuntimeWarning: This filename (/content/drive/My Drive/Processed_EEG_Data/47131_cleaned.fif) does not conform to MNE naming conventions. All raw files should end with raw.fif, raw_sss.fif, raw_tsss.fif, _meg.fif, _eeg.fif, _ieeg.fif, raw.fif.gz, raw_sss.fif.gz, raw_tsss.fif.gz, _meg.fif.gz, _eeg.fif.gz or _ieeg.fif.gz\n",
            "  raw = mne.io.read_raw_fif(fif_file, preload=True)\n"
          ]
        },
        {
          "output_type": "stream",
          "name": "stdout",
          "text": [
            "    Range : 0 ... 1277499 =      0.000 ...  5109.996 secs\n",
            "Ready.\n",
            "Reading 0 ... 1277499  =      0.000 ...  5109.996 secs...\n",
            "Writing /content/drive/My Drive/epoched_data/updated_47131_cleaned.fif\n"
          ]
        },
        {
          "output_type": "stream",
          "name": "stderr",
          "text": [
            "<ipython-input-13-42b744fdb115>:7: RuntimeWarning: This filename (/content/drive/My Drive/epoched_data/updated_47131_cleaned.fif) does not conform to MNE naming conventions. All raw files should end with raw.fif, raw_sss.fif, raw_tsss.fif, _meg.fif, _eeg.fif, _ieeg.fif, raw.fif.gz, raw_sss.fif.gz, raw_tsss.fif.gz, _meg.fif.gz, _eeg.fif.gz or _ieeg.fif.gz\n",
            "  raw.save(updated_file_name, overwrite=True)\n"
          ]
        },
        {
          "output_type": "stream",
          "name": "stdout",
          "text": [
            "Closing /content/drive/My Drive/epoched_data/updated_47131_cleaned.fif\n",
            "[done]\n",
            "Saved updated file: /content/drive/My Drive/epoched_data/updated_47131_cleaned.fif\n",
            "Processing file: /content/drive/My Drive/Processed_EEG_Data/31730_cleaned.fif\n",
            "Opening raw data file /content/drive/My Drive/Processed_EEG_Data/31730_cleaned.fif...\n"
          ]
        },
        {
          "output_type": "stream",
          "name": "stderr",
          "text": [
            "<ipython-input-13-42b744fdb115>:5: RuntimeWarning: This filename (/content/drive/My Drive/Processed_EEG_Data/31730_cleaned.fif) does not conform to MNE naming conventions. All raw files should end with raw.fif, raw_sss.fif, raw_tsss.fif, _meg.fif, _eeg.fif, _ieeg.fif, raw.fif.gz, raw_sss.fif.gz, raw_tsss.fif.gz, _meg.fif.gz, _eeg.fif.gz or _ieeg.fif.gz\n",
            "  raw = mne.io.read_raw_fif(fif_file, preload=True)\n"
          ]
        },
        {
          "output_type": "stream",
          "name": "stdout",
          "text": [
            "    Range : 0 ... 1322499 =      0.000 ...  5289.996 secs\n",
            "Ready.\n",
            "Reading 0 ... 1322499  =      0.000 ...  5289.996 secs...\n",
            "Writing /content/drive/My Drive/epoched_data/updated_31730_cleaned.fif\n"
          ]
        },
        {
          "output_type": "stream",
          "name": "stderr",
          "text": [
            "<ipython-input-13-42b744fdb115>:7: RuntimeWarning: This filename (/content/drive/My Drive/epoched_data/updated_31730_cleaned.fif) does not conform to MNE naming conventions. All raw files should end with raw.fif, raw_sss.fif, raw_tsss.fif, _meg.fif, _eeg.fif, _ieeg.fif, raw.fif.gz, raw_sss.fif.gz, raw_tsss.fif.gz, _meg.fif.gz, _eeg.fif.gz or _ieeg.fif.gz\n",
            "  raw.save(updated_file_name, overwrite=True)\n"
          ]
        },
        {
          "output_type": "stream",
          "name": "stdout",
          "text": [
            "Closing /content/drive/My Drive/epoched_data/updated_31730_cleaned.fif\n",
            "[done]\n",
            "Saved updated file: /content/drive/My Drive/epoched_data/updated_31730_cleaned.fif\n",
            "Processing file: /content/drive/My Drive/Processed_EEG_Data/48238_cleaned.fif\n",
            "Opening raw data file /content/drive/My Drive/Processed_EEG_Data/48238_cleaned.fif...\n",
            "    Range : 0 ... 1298099 =      0.000 ...  5192.396 secs\n",
            "Ready.\n"
          ]
        },
        {
          "output_type": "stream",
          "name": "stderr",
          "text": [
            "<ipython-input-13-42b744fdb115>:5: RuntimeWarning: This filename (/content/drive/My Drive/Processed_EEG_Data/48238_cleaned.fif) does not conform to MNE naming conventions. All raw files should end with raw.fif, raw_sss.fif, raw_tsss.fif, _meg.fif, _eeg.fif, _ieeg.fif, raw.fif.gz, raw_sss.fif.gz, raw_tsss.fif.gz, _meg.fif.gz, _eeg.fif.gz or _ieeg.fif.gz\n",
            "  raw = mne.io.read_raw_fif(fif_file, preload=True)\n"
          ]
        },
        {
          "output_type": "stream",
          "name": "stdout",
          "text": [
            "Reading 0 ... 1298099  =      0.000 ...  5192.396 secs...\n",
            "Writing /content/drive/My Drive/epoched_data/updated_48238_cleaned.fif\n"
          ]
        },
        {
          "output_type": "stream",
          "name": "stderr",
          "text": [
            "<ipython-input-13-42b744fdb115>:7: RuntimeWarning: This filename (/content/drive/My Drive/epoched_data/updated_48238_cleaned.fif) does not conform to MNE naming conventions. All raw files should end with raw.fif, raw_sss.fif, raw_tsss.fif, _meg.fif, _eeg.fif, _ieeg.fif, raw.fif.gz, raw_sss.fif.gz, raw_tsss.fif.gz, _meg.fif.gz, _eeg.fif.gz or _ieeg.fif.gz\n",
            "  raw.save(updated_file_name, overwrite=True)\n"
          ]
        },
        {
          "output_type": "stream",
          "name": "stdout",
          "text": [
            "Closing /content/drive/My Drive/epoched_data/updated_48238_cleaned.fif\n",
            "[done]\n",
            "Saved updated file: /content/drive/My Drive/epoched_data/updated_48238_cleaned.fif\n",
            "Processing file: /content/drive/My Drive/Processed_EEG_Data/47204_cleaned.fif\n",
            "Opening raw data file /content/drive/My Drive/Processed_EEG_Data/47204_cleaned.fif...\n",
            "    Range : 0 ... 1190899 =      0.000 ...  4763.596 secs\n",
            "Ready.\n",
            "Reading 0 ... 1190899  =      0.000 ...  4763.596 secs...\n"
          ]
        },
        {
          "output_type": "stream",
          "name": "stderr",
          "text": [
            "<ipython-input-13-42b744fdb115>:5: RuntimeWarning: This filename (/content/drive/My Drive/Processed_EEG_Data/47204_cleaned.fif) does not conform to MNE naming conventions. All raw files should end with raw.fif, raw_sss.fif, raw_tsss.fif, _meg.fif, _eeg.fif, _ieeg.fif, raw.fif.gz, raw_sss.fif.gz, raw_tsss.fif.gz, _meg.fif.gz, _eeg.fif.gz or _ieeg.fif.gz\n",
            "  raw = mne.io.read_raw_fif(fif_file, preload=True)\n"
          ]
        },
        {
          "output_type": "stream",
          "name": "stdout",
          "text": [
            "Writing /content/drive/My Drive/epoched_data/updated_47204_cleaned.fif\n"
          ]
        },
        {
          "output_type": "stream",
          "name": "stderr",
          "text": [
            "<ipython-input-13-42b744fdb115>:7: RuntimeWarning: This filename (/content/drive/My Drive/epoched_data/updated_47204_cleaned.fif) does not conform to MNE naming conventions. All raw files should end with raw.fif, raw_sss.fif, raw_tsss.fif, _meg.fif, _eeg.fif, _ieeg.fif, raw.fif.gz, raw_sss.fif.gz, raw_tsss.fif.gz, _meg.fif.gz, _eeg.fif.gz or _ieeg.fif.gz\n",
            "  raw.save(updated_file_name, overwrite=True)\n"
          ]
        },
        {
          "output_type": "stream",
          "name": "stdout",
          "text": [
            "Closing /content/drive/My Drive/epoched_data/updated_47204_cleaned.fif\n",
            "[done]\n",
            "Saved updated file: /content/drive/My Drive/epoched_data/updated_47204_cleaned.fif\n",
            "Processing file: /content/drive/My Drive/Processed_EEG_Data/47324_cleaned.fif\n",
            "Opening raw data file /content/drive/My Drive/Processed_EEG_Data/47324_cleaned.fif...\n"
          ]
        },
        {
          "output_type": "stream",
          "name": "stderr",
          "text": [
            "<ipython-input-13-42b744fdb115>:5: RuntimeWarning: This filename (/content/drive/My Drive/Processed_EEG_Data/47324_cleaned.fif) does not conform to MNE naming conventions. All raw files should end with raw.fif, raw_sss.fif, raw_tsss.fif, _meg.fif, _eeg.fif, _ieeg.fif, raw.fif.gz, raw_sss.fif.gz, raw_tsss.fif.gz, _meg.fif.gz, _eeg.fif.gz or _ieeg.fif.gz\n",
            "  raw = mne.io.read_raw_fif(fif_file, preload=True)\n"
          ]
        },
        {
          "output_type": "stream",
          "name": "stdout",
          "text": [
            "    Range : 0 ... 1396599 =      0.000 ...  5586.396 secs\n",
            "Ready.\n",
            "Reading 0 ... 1396599  =      0.000 ...  5586.396 secs...\n",
            "Writing /content/drive/My Drive/epoched_data/updated_47324_cleaned.fif\n"
          ]
        },
        {
          "output_type": "stream",
          "name": "stderr",
          "text": [
            "<ipython-input-13-42b744fdb115>:7: RuntimeWarning: This filename (/content/drive/My Drive/epoched_data/updated_47324_cleaned.fif) does not conform to MNE naming conventions. All raw files should end with raw.fif, raw_sss.fif, raw_tsss.fif, _meg.fif, _eeg.fif, _ieeg.fif, raw.fif.gz, raw_sss.fif.gz, raw_tsss.fif.gz, _meg.fif.gz, _eeg.fif.gz or _ieeg.fif.gz\n",
            "  raw.save(updated_file_name, overwrite=True)\n"
          ]
        },
        {
          "output_type": "stream",
          "name": "stdout",
          "text": [
            "Closing /content/drive/My Drive/epoched_data/updated_47324_cleaned.fif\n",
            "[done]\n",
            "Saved updated file: /content/drive/My Drive/epoched_data/updated_47324_cleaned.fif\n",
            "Processing file: /content/drive/My Drive/Processed_EEG_Data/43000_cleaned.fif\n",
            "Opening raw data file /content/drive/My Drive/Processed_EEG_Data/43000_cleaned.fif...\n"
          ]
        },
        {
          "output_type": "stream",
          "name": "stderr",
          "text": [
            "<ipython-input-13-42b744fdb115>:5: RuntimeWarning: This filename (/content/drive/My Drive/Processed_EEG_Data/43000_cleaned.fif) does not conform to MNE naming conventions. All raw files should end with raw.fif, raw_sss.fif, raw_tsss.fif, _meg.fif, _eeg.fif, _ieeg.fif, raw.fif.gz, raw_sss.fif.gz, raw_tsss.fif.gz, _meg.fif.gz, _eeg.fif.gz or _ieeg.fif.gz\n",
            "  raw = mne.io.read_raw_fif(fif_file, preload=True)\n"
          ]
        },
        {
          "output_type": "stream",
          "name": "stdout",
          "text": [
            "    Range : 0 ... 1262749 =      0.000 ...  5050.996 secs\n",
            "Ready.\n",
            "Reading 0 ... 1262749  =      0.000 ...  5050.996 secs...\n",
            "Writing /content/drive/My Drive/epoched_data/updated_43000_cleaned.fif\n"
          ]
        },
        {
          "output_type": "stream",
          "name": "stderr",
          "text": [
            "<ipython-input-13-42b744fdb115>:7: RuntimeWarning: This filename (/content/drive/My Drive/epoched_data/updated_43000_cleaned.fif) does not conform to MNE naming conventions. All raw files should end with raw.fif, raw_sss.fif, raw_tsss.fif, _meg.fif, _eeg.fif, _ieeg.fif, raw.fif.gz, raw_sss.fif.gz, raw_tsss.fif.gz, _meg.fif.gz, _eeg.fif.gz or _ieeg.fif.gz\n",
            "  raw.save(updated_file_name, overwrite=True)\n"
          ]
        },
        {
          "output_type": "stream",
          "name": "stdout",
          "text": [
            "Closing /content/drive/My Drive/epoched_data/updated_43000_cleaned.fif\n",
            "[done]\n",
            "Saved updated file: /content/drive/My Drive/epoched_data/updated_43000_cleaned.fif\n"
          ]
        }
      ]
    },
    {
      "cell_type": "code",
      "source": [
        "import mne\n",
        "import os\n",
        "\n",
        "# Define paths\n",
        "fif_folder_path = '/content/drive/My Drive/Processed_EEG_Data'  # Replace with your folder path\n",
        "output_folder = '/content/drive/My Drive/processed_data'\n",
        "os.makedirs(output_folder, exist_ok=True)\n",
        "\n",
        "# List all .fif files in the folder\n",
        "fif_files = [os.path.join(fif_folder_path, f) for f in os.listdir(fif_folder_path) if f.endswith('.fif')]\n",
        "\n",
        "# Loop through each .fif file and reapply filters\n",
        "for fif_file in fif_files:\n",
        "    print(f\"Processing file: {fif_file}\")\n",
        "\n",
        "    # Load the EEG data\n",
        "    raw = mne.io.read_raw_fif(fif_file, preload=True)\n",
        "\n",
        "    # Reapply bandpass filter between 0.5 and 90 Hz to ensure uniformity\n",
        "    raw.filter(l_freq=0.5, h_freq=90)\n",
        "\n",
        "    # Save the updated file with a new name\n",
        "    updated_file_name = os.path.join(output_folder, f\"filtered_{os.path.basename(fif_file)}\")\n",
        "    raw.save(updated_file_name, overwrite=True)\n",
        "\n",
        "    print(f\"Saved filtered file: {updated_file_name}\")\n",
        "\n",
        "print(\"All files processed successfully.\")\n"
      ],
      "metadata": {
        "colab": {
          "base_uri": "https://localhost:8080/"
        },
        "id": "XvxV2dWuIpw2",
        "outputId": "9a0546ba-f96f-49b0-b425-999d9f46e265"
      },
      "execution_count": 15,
      "outputs": [
        {
          "output_type": "stream",
          "name": "stdout",
          "text": [
            "Processing file: /content/drive/My Drive/Processed_EEG_Data/47131_cleaned.fif\n",
            "Opening raw data file /content/drive/My Drive/Processed_EEG_Data/47131_cleaned.fif...\n",
            "    Range : 0 ... 1277499 =      0.000 ...  5109.996 secs\n",
            "Ready.\n"
          ]
        },
        {
          "output_type": "stream",
          "name": "stderr",
          "text": [
            "<ipython-input-15-cc6a9d5e8dc3>:17: RuntimeWarning: This filename (/content/drive/My Drive/Processed_EEG_Data/47131_cleaned.fif) does not conform to MNE naming conventions. All raw files should end with raw.fif, raw_sss.fif, raw_tsss.fif, _meg.fif, _eeg.fif, _ieeg.fif, raw.fif.gz, raw_sss.fif.gz, raw_tsss.fif.gz, _meg.fif.gz, _eeg.fif.gz or _ieeg.fif.gz\n",
            "  raw = mne.io.read_raw_fif(fif_file, preload=True)\n"
          ]
        },
        {
          "output_type": "stream",
          "name": "stdout",
          "text": [
            "Reading 0 ... 1277499  =      0.000 ...  5109.996 secs...\n",
            "Filtering raw data in 1 contiguous segment\n",
            "Setting up band-pass filter from 0.5 - 90 Hz\n",
            "\n",
            "FIR filter parameters\n",
            "---------------------\n",
            "Designing a one-pass, zero-phase, non-causal bandpass filter:\n",
            "- Windowed time-domain design (firwin) method\n",
            "- Hamming window with 0.0194 passband ripple and 53 dB stopband attenuation\n",
            "- Lower passband edge: 0.50\n",
            "- Lower transition bandwidth: 0.50 Hz (-6 dB cutoff frequency: 0.25 Hz)\n",
            "- Upper passband edge: 90.00 Hz\n",
            "- Upper transition bandwidth: 22.50 Hz (-6 dB cutoff frequency: 101.25 Hz)\n",
            "- Filter length: 1651 samples (6.604 s)\n",
            "\n",
            "Writing /content/drive/My Drive/processed_data/filtered_47131_cleaned.fif\n"
          ]
        },
        {
          "output_type": "stream",
          "name": "stderr",
          "text": [
            "[Parallel(n_jobs=1)]: Done  17 tasks      | elapsed:    0.9s\n",
            "<ipython-input-15-cc6a9d5e8dc3>:24: RuntimeWarning: This filename (/content/drive/My Drive/processed_data/filtered_47131_cleaned.fif) does not conform to MNE naming conventions. All raw files should end with raw.fif, raw_sss.fif, raw_tsss.fif, _meg.fif, _eeg.fif, _ieeg.fif, raw.fif.gz, raw_sss.fif.gz, raw_tsss.fif.gz, _meg.fif.gz, _eeg.fif.gz or _ieeg.fif.gz\n",
            "  raw.save(updated_file_name, overwrite=True)\n"
          ]
        },
        {
          "output_type": "stream",
          "name": "stdout",
          "text": [
            "Closing /content/drive/My Drive/processed_data/filtered_47131_cleaned.fif\n",
            "[done]\n",
            "Saved filtered file: /content/drive/My Drive/processed_data/filtered_47131_cleaned.fif\n",
            "Processing file: /content/drive/My Drive/Processed_EEG_Data/31730_cleaned.fif\n",
            "Opening raw data file /content/drive/My Drive/Processed_EEG_Data/31730_cleaned.fif...\n"
          ]
        },
        {
          "output_type": "stream",
          "name": "stderr",
          "text": [
            "<ipython-input-15-cc6a9d5e8dc3>:17: RuntimeWarning: This filename (/content/drive/My Drive/Processed_EEG_Data/31730_cleaned.fif) does not conform to MNE naming conventions. All raw files should end with raw.fif, raw_sss.fif, raw_tsss.fif, _meg.fif, _eeg.fif, _ieeg.fif, raw.fif.gz, raw_sss.fif.gz, raw_tsss.fif.gz, _meg.fif.gz, _eeg.fif.gz or _ieeg.fif.gz\n",
            "  raw = mne.io.read_raw_fif(fif_file, preload=True)\n"
          ]
        },
        {
          "output_type": "stream",
          "name": "stdout",
          "text": [
            "    Range : 0 ... 1322499 =      0.000 ...  5289.996 secs\n",
            "Ready.\n",
            "Reading 0 ... 1322499  =      0.000 ...  5289.996 secs...\n",
            "Filtering raw data in 1 contiguous segment\n",
            "Setting up band-pass filter from 0.5 - 90 Hz\n",
            "\n",
            "FIR filter parameters\n",
            "---------------------\n",
            "Designing a one-pass, zero-phase, non-causal bandpass filter:\n",
            "- Windowed time-domain design (firwin) method\n",
            "- Hamming window with 0.0194 passband ripple and 53 dB stopband attenuation\n",
            "- Lower passband edge: 0.50\n",
            "- Lower transition bandwidth: 0.50 Hz (-6 dB cutoff frequency: 0.25 Hz)\n",
            "- Upper passband edge: 90.00 Hz\n",
            "- Upper transition bandwidth: 22.50 Hz (-6 dB cutoff frequency: 101.25 Hz)\n",
            "- Filter length: 1651 samples (6.604 s)\n",
            "\n"
          ]
        },
        {
          "output_type": "stream",
          "name": "stderr",
          "text": [
            "[Parallel(n_jobs=1)]: Done  17 tasks      | elapsed:    1.0s\n"
          ]
        },
        {
          "output_type": "stream",
          "name": "stdout",
          "text": [
            "Writing /content/drive/My Drive/processed_data/filtered_31730_cleaned.fif\n"
          ]
        },
        {
          "output_type": "stream",
          "name": "stderr",
          "text": [
            "<ipython-input-15-cc6a9d5e8dc3>:24: RuntimeWarning: This filename (/content/drive/My Drive/processed_data/filtered_31730_cleaned.fif) does not conform to MNE naming conventions. All raw files should end with raw.fif, raw_sss.fif, raw_tsss.fif, _meg.fif, _eeg.fif, _ieeg.fif, raw.fif.gz, raw_sss.fif.gz, raw_tsss.fif.gz, _meg.fif.gz, _eeg.fif.gz or _ieeg.fif.gz\n",
            "  raw.save(updated_file_name, overwrite=True)\n"
          ]
        },
        {
          "output_type": "stream",
          "name": "stdout",
          "text": [
            "Closing /content/drive/My Drive/processed_data/filtered_31730_cleaned.fif\n",
            "[done]\n",
            "Saved filtered file: /content/drive/My Drive/processed_data/filtered_31730_cleaned.fif\n",
            "Processing file: /content/drive/My Drive/Processed_EEG_Data/48238_cleaned.fif\n",
            "Opening raw data file /content/drive/My Drive/Processed_EEG_Data/48238_cleaned.fif...\n"
          ]
        },
        {
          "output_type": "stream",
          "name": "stderr",
          "text": [
            "<ipython-input-15-cc6a9d5e8dc3>:17: RuntimeWarning: This filename (/content/drive/My Drive/Processed_EEG_Data/48238_cleaned.fif) does not conform to MNE naming conventions. All raw files should end with raw.fif, raw_sss.fif, raw_tsss.fif, _meg.fif, _eeg.fif, _ieeg.fif, raw.fif.gz, raw_sss.fif.gz, raw_tsss.fif.gz, _meg.fif.gz, _eeg.fif.gz or _ieeg.fif.gz\n",
            "  raw = mne.io.read_raw_fif(fif_file, preload=True)\n"
          ]
        },
        {
          "output_type": "stream",
          "name": "stdout",
          "text": [
            "    Range : 0 ... 1298099 =      0.000 ...  5192.396 secs\n",
            "Ready.\n",
            "Reading 0 ... 1298099  =      0.000 ...  5192.396 secs...\n",
            "Filtering raw data in 1 contiguous segment\n",
            "Setting up band-pass filter from 0.5 - 90 Hz\n",
            "\n",
            "FIR filter parameters\n",
            "---------------------\n",
            "Designing a one-pass, zero-phase, non-causal bandpass filter:\n",
            "- Windowed time-domain design (firwin) method\n",
            "- Hamming window with 0.0194 passband ripple and 53 dB stopband attenuation\n",
            "- Lower passband edge: 0.50\n",
            "- Lower transition bandwidth: 0.50 Hz (-6 dB cutoff frequency: 0.25 Hz)\n",
            "- Upper passband edge: 90.00 Hz\n",
            "- Upper transition bandwidth: 22.50 Hz (-6 dB cutoff frequency: 101.25 Hz)\n",
            "- Filter length: 1651 samples (6.604 s)\n",
            "\n",
            "Writing /content/drive/My Drive/processed_data/filtered_48238_cleaned.fif\n"
          ]
        },
        {
          "output_type": "stream",
          "name": "stderr",
          "text": [
            "[Parallel(n_jobs=1)]: Done  17 tasks      | elapsed:    0.9s\n",
            "<ipython-input-15-cc6a9d5e8dc3>:24: RuntimeWarning: This filename (/content/drive/My Drive/processed_data/filtered_48238_cleaned.fif) does not conform to MNE naming conventions. All raw files should end with raw.fif, raw_sss.fif, raw_tsss.fif, _meg.fif, _eeg.fif, _ieeg.fif, raw.fif.gz, raw_sss.fif.gz, raw_tsss.fif.gz, _meg.fif.gz, _eeg.fif.gz or _ieeg.fif.gz\n",
            "  raw.save(updated_file_name, overwrite=True)\n"
          ]
        },
        {
          "output_type": "stream",
          "name": "stdout",
          "text": [
            "Closing /content/drive/My Drive/processed_data/filtered_48238_cleaned.fif\n",
            "[done]\n",
            "Saved filtered file: /content/drive/My Drive/processed_data/filtered_48238_cleaned.fif\n",
            "Processing file: /content/drive/My Drive/Processed_EEG_Data/47204_cleaned.fif\n",
            "Opening raw data file /content/drive/My Drive/Processed_EEG_Data/47204_cleaned.fif...\n"
          ]
        },
        {
          "output_type": "stream",
          "name": "stderr",
          "text": [
            "<ipython-input-15-cc6a9d5e8dc3>:17: RuntimeWarning: This filename (/content/drive/My Drive/Processed_EEG_Data/47204_cleaned.fif) does not conform to MNE naming conventions. All raw files should end with raw.fif, raw_sss.fif, raw_tsss.fif, _meg.fif, _eeg.fif, _ieeg.fif, raw.fif.gz, raw_sss.fif.gz, raw_tsss.fif.gz, _meg.fif.gz, _eeg.fif.gz or _ieeg.fif.gz\n",
            "  raw = mne.io.read_raw_fif(fif_file, preload=True)\n"
          ]
        },
        {
          "output_type": "stream",
          "name": "stdout",
          "text": [
            "    Range : 0 ... 1190899 =      0.000 ...  4763.596 secs\n",
            "Ready.\n",
            "Reading 0 ... 1190899  =      0.000 ...  4763.596 secs...\n",
            "Filtering raw data in 1 contiguous segment\n",
            "Setting up band-pass filter from 0.5 - 90 Hz\n",
            "\n",
            "FIR filter parameters\n",
            "---------------------\n",
            "Designing a one-pass, zero-phase, non-causal bandpass filter:\n",
            "- Windowed time-domain design (firwin) method\n",
            "- Hamming window with 0.0194 passband ripple and 53 dB stopband attenuation\n",
            "- Lower passband edge: 0.50\n",
            "- Lower transition bandwidth: 0.50 Hz (-6 dB cutoff frequency: 0.25 Hz)\n",
            "- Upper passband edge: 90.00 Hz\n",
            "- Upper transition bandwidth: 22.50 Hz (-6 dB cutoff frequency: 101.25 Hz)\n",
            "- Filter length: 1651 samples (6.604 s)\n",
            "\n"
          ]
        },
        {
          "output_type": "stream",
          "name": "stderr",
          "text": [
            "[Parallel(n_jobs=1)]: Done  17 tasks      | elapsed:    0.8s\n"
          ]
        },
        {
          "output_type": "stream",
          "name": "stdout",
          "text": [
            "Writing /content/drive/My Drive/processed_data/filtered_47204_cleaned.fif\n"
          ]
        },
        {
          "output_type": "stream",
          "name": "stderr",
          "text": [
            "<ipython-input-15-cc6a9d5e8dc3>:24: RuntimeWarning: This filename (/content/drive/My Drive/processed_data/filtered_47204_cleaned.fif) does not conform to MNE naming conventions. All raw files should end with raw.fif, raw_sss.fif, raw_tsss.fif, _meg.fif, _eeg.fif, _ieeg.fif, raw.fif.gz, raw_sss.fif.gz, raw_tsss.fif.gz, _meg.fif.gz, _eeg.fif.gz or _ieeg.fif.gz\n",
            "  raw.save(updated_file_name, overwrite=True)\n"
          ]
        },
        {
          "output_type": "stream",
          "name": "stdout",
          "text": [
            "Closing /content/drive/My Drive/processed_data/filtered_47204_cleaned.fif\n",
            "[done]\n",
            "Saved filtered file: /content/drive/My Drive/processed_data/filtered_47204_cleaned.fif\n",
            "Processing file: /content/drive/My Drive/Processed_EEG_Data/47324_cleaned.fif\n",
            "Opening raw data file /content/drive/My Drive/Processed_EEG_Data/47324_cleaned.fif...\n"
          ]
        },
        {
          "output_type": "stream",
          "name": "stderr",
          "text": [
            "<ipython-input-15-cc6a9d5e8dc3>:17: RuntimeWarning: This filename (/content/drive/My Drive/Processed_EEG_Data/47324_cleaned.fif) does not conform to MNE naming conventions. All raw files should end with raw.fif, raw_sss.fif, raw_tsss.fif, _meg.fif, _eeg.fif, _ieeg.fif, raw.fif.gz, raw_sss.fif.gz, raw_tsss.fif.gz, _meg.fif.gz, _eeg.fif.gz or _ieeg.fif.gz\n",
            "  raw = mne.io.read_raw_fif(fif_file, preload=True)\n"
          ]
        },
        {
          "output_type": "stream",
          "name": "stdout",
          "text": [
            "    Range : 0 ... 1396599 =      0.000 ...  5586.396 secs\n",
            "Ready.\n",
            "Reading 0 ... 1396599  =      0.000 ...  5586.396 secs...\n",
            "Filtering raw data in 1 contiguous segment\n",
            "Setting up band-pass filter from 0.5 - 90 Hz\n",
            "\n",
            "FIR filter parameters\n",
            "---------------------\n",
            "Designing a one-pass, zero-phase, non-causal bandpass filter:\n",
            "- Windowed time-domain design (firwin) method\n",
            "- Hamming window with 0.0194 passband ripple and 53 dB stopband attenuation\n",
            "- Lower passband edge: 0.50\n",
            "- Lower transition bandwidth: 0.50 Hz (-6 dB cutoff frequency: 0.25 Hz)\n",
            "- Upper passband edge: 90.00 Hz\n",
            "- Upper transition bandwidth: 22.50 Hz (-6 dB cutoff frequency: 101.25 Hz)\n",
            "- Filter length: 1651 samples (6.604 s)\n",
            "\n",
            "Writing /content/drive/My Drive/processed_data/filtered_47324_cleaned.fif\n"
          ]
        },
        {
          "output_type": "stream",
          "name": "stderr",
          "text": [
            "[Parallel(n_jobs=1)]: Done  17 tasks      | elapsed:    0.9s\n",
            "<ipython-input-15-cc6a9d5e8dc3>:24: RuntimeWarning: This filename (/content/drive/My Drive/processed_data/filtered_47324_cleaned.fif) does not conform to MNE naming conventions. All raw files should end with raw.fif, raw_sss.fif, raw_tsss.fif, _meg.fif, _eeg.fif, _ieeg.fif, raw.fif.gz, raw_sss.fif.gz, raw_tsss.fif.gz, _meg.fif.gz, _eeg.fif.gz or _ieeg.fif.gz\n",
            "  raw.save(updated_file_name, overwrite=True)\n"
          ]
        },
        {
          "output_type": "stream",
          "name": "stdout",
          "text": [
            "Closing /content/drive/My Drive/processed_data/filtered_47324_cleaned.fif\n",
            "[done]\n",
            "Saved filtered file: /content/drive/My Drive/processed_data/filtered_47324_cleaned.fif\n",
            "Processing file: /content/drive/My Drive/Processed_EEG_Data/43000_cleaned.fif\n",
            "Opening raw data file /content/drive/My Drive/Processed_EEG_Data/43000_cleaned.fif...\n"
          ]
        },
        {
          "output_type": "stream",
          "name": "stderr",
          "text": [
            "<ipython-input-15-cc6a9d5e8dc3>:17: RuntimeWarning: This filename (/content/drive/My Drive/Processed_EEG_Data/43000_cleaned.fif) does not conform to MNE naming conventions. All raw files should end with raw.fif, raw_sss.fif, raw_tsss.fif, _meg.fif, _eeg.fif, _ieeg.fif, raw.fif.gz, raw_sss.fif.gz, raw_tsss.fif.gz, _meg.fif.gz, _eeg.fif.gz or _ieeg.fif.gz\n",
            "  raw = mne.io.read_raw_fif(fif_file, preload=True)\n"
          ]
        },
        {
          "output_type": "stream",
          "name": "stdout",
          "text": [
            "    Range : 0 ... 1262749 =      0.000 ...  5050.996 secs\n",
            "Ready.\n",
            "Reading 0 ... 1262749  =      0.000 ...  5050.996 secs...\n",
            "Filtering raw data in 1 contiguous segment\n",
            "Setting up band-pass filter from 0.5 - 90 Hz\n",
            "\n",
            "FIR filter parameters\n",
            "---------------------\n",
            "Designing a one-pass, zero-phase, non-causal bandpass filter:\n",
            "- Windowed time-domain design (firwin) method\n",
            "- Hamming window with 0.0194 passband ripple and 53 dB stopband attenuation\n",
            "- Lower passband edge: 0.50\n",
            "- Lower transition bandwidth: 0.50 Hz (-6 dB cutoff frequency: 0.25 Hz)\n",
            "- Upper passband edge: 90.00 Hz\n",
            "- Upper transition bandwidth: 22.50 Hz (-6 dB cutoff frequency: 101.25 Hz)\n",
            "- Filter length: 1651 samples (6.604 s)\n",
            "\n"
          ]
        },
        {
          "output_type": "stream",
          "name": "stderr",
          "text": [
            "[Parallel(n_jobs=1)]: Done  17 tasks      | elapsed:    2.5s\n"
          ]
        },
        {
          "output_type": "stream",
          "name": "stdout",
          "text": [
            "Writing /content/drive/My Drive/processed_data/filtered_43000_cleaned.fif\n"
          ]
        },
        {
          "output_type": "stream",
          "name": "stderr",
          "text": [
            "<ipython-input-15-cc6a9d5e8dc3>:24: RuntimeWarning: This filename (/content/drive/My Drive/processed_data/filtered_43000_cleaned.fif) does not conform to MNE naming conventions. All raw files should end with raw.fif, raw_sss.fif, raw_tsss.fif, _meg.fif, _eeg.fif, _ieeg.fif, raw.fif.gz, raw_sss.fif.gz, raw_tsss.fif.gz, _meg.fif.gz, _eeg.fif.gz or _ieeg.fif.gz\n",
            "  raw.save(updated_file_name, overwrite=True)\n"
          ]
        },
        {
          "output_type": "stream",
          "name": "stdout",
          "text": [
            "Closing /content/drive/My Drive/processed_data/filtered_43000_cleaned.fif\n",
            "[done]\n",
            "Saved filtered file: /content/drive/My Drive/processed_data/filtered_43000_cleaned.fif\n",
            "All files processed successfully.\n"
          ]
        }
      ]
    },
    {
      "cell_type": "code",
      "source": [
        "import mne\n",
        "import os\n",
        "\n",
        "# Define paths\n",
        "fif_folder_path = '/content/drive/My Drive/processed_data'  # Replace with your folder path\n",
        "output_folder = '/content/drive/My Drive/new_data'\n",
        "os.makedirs(output_folder, exist_ok=True)\n",
        "\n",
        "# List all .fif files in the folder\n",
        "fif_files = [os.path.join(fif_folder_path, f) for f in os.listdir(fif_folder_path) if f.endswith('.fif')]\n",
        "\n",
        "# Loop through each .fif file and reapply filters\n",
        "for fif_file in fif_files:\n",
        "    print(f\"Processing file: {fif_file}\")\n",
        "\n",
        "    # Load the EEG data\n",
        "    raw = mne.io.read_raw_fif(fif_file, preload=True)\n",
        "\n",
        "    # Reapply bandpass filter between 0.5 and 90 Hz to ensure uniformity\n",
        "    raw.filter(l_freq=0.5, h_freq=90)\n",
        "\n",
        "    # Save the updated file with a new name\n",
        "    updated_file_name = os.path.join(output_folder, f\"filtered_{os.path.basename(fif_file)}\")\n",
        "    raw.save(updated_file_name, overwrite=True)\n",
        "\n",
        "    print(f\"Saved filtered file: {updated_file_name}\")\n",
        "\n",
        "print(\"All files processed successfully.\")\n"
      ],
      "metadata": {
        "colab": {
          "base_uri": "https://localhost:8080/"
        },
        "id": "H7APm9XXKxoT",
        "outputId": "ccb706ae-61ef-4e1a-ddeb-5dfd2b76b747"
      },
      "execution_count": 20,
      "outputs": [
        {
          "output_type": "stream",
          "name": "stdout",
          "text": [
            "Processing file: /content/drive/My Drive/processed_data/filtered_47131_cleaned.fif\n",
            "Opening raw data file /content/drive/My Drive/processed_data/filtered_47131_cleaned.fif...\n"
          ]
        },
        {
          "output_type": "stream",
          "name": "stderr",
          "text": [
            "<ipython-input-20-fde43f790ce2>:17: RuntimeWarning: This filename (/content/drive/My Drive/processed_data/filtered_47131_cleaned.fif) does not conform to MNE naming conventions. All raw files should end with raw.fif, raw_sss.fif, raw_tsss.fif, _meg.fif, _eeg.fif, _ieeg.fif, raw.fif.gz, raw_sss.fif.gz, raw_tsss.fif.gz, _meg.fif.gz, _eeg.fif.gz or _ieeg.fif.gz\n",
            "  raw = mne.io.read_raw_fif(fif_file, preload=True)\n"
          ]
        },
        {
          "output_type": "stream",
          "name": "stdout",
          "text": [
            "    Range : 0 ... 1277499 =      0.000 ...  5109.996 secs\n",
            "Ready.\n",
            "Reading 0 ... 1277499  =      0.000 ...  5109.996 secs...\n",
            "Filtering raw data in 1 contiguous segment\n",
            "Setting up band-pass filter from 0.5 - 90 Hz\n",
            "\n",
            "FIR filter parameters\n",
            "---------------------\n",
            "Designing a one-pass, zero-phase, non-causal bandpass filter:\n",
            "- Windowed time-domain design (firwin) method\n",
            "- Hamming window with 0.0194 passband ripple and 53 dB stopband attenuation\n",
            "- Lower passband edge: 0.50\n",
            "- Lower transition bandwidth: 0.50 Hz (-6 dB cutoff frequency: 0.25 Hz)\n",
            "- Upper passband edge: 90.00 Hz\n",
            "- Upper transition bandwidth: 22.50 Hz (-6 dB cutoff frequency: 101.25 Hz)\n",
            "- Filter length: 1651 samples (6.604 s)\n",
            "\n"
          ]
        },
        {
          "output_type": "stream",
          "name": "stderr",
          "text": [
            "[Parallel(n_jobs=1)]: Done  17 tasks      | elapsed:    2.7s\n"
          ]
        },
        {
          "output_type": "stream",
          "name": "stdout",
          "text": [
            "Writing /content/drive/My Drive/new_data/filtered_filtered_47131_cleaned.fif\n"
          ]
        },
        {
          "output_type": "stream",
          "name": "stderr",
          "text": [
            "<ipython-input-20-fde43f790ce2>:24: RuntimeWarning: This filename (/content/drive/My Drive/new_data/filtered_filtered_47131_cleaned.fif) does not conform to MNE naming conventions. All raw files should end with raw.fif, raw_sss.fif, raw_tsss.fif, _meg.fif, _eeg.fif, _ieeg.fif, raw.fif.gz, raw_sss.fif.gz, raw_tsss.fif.gz, _meg.fif.gz, _eeg.fif.gz or _ieeg.fif.gz\n",
            "  raw.save(updated_file_name, overwrite=True)\n"
          ]
        },
        {
          "output_type": "stream",
          "name": "stdout",
          "text": [
            "Closing /content/drive/My Drive/new_data/filtered_filtered_47131_cleaned.fif\n",
            "[done]\n",
            "Saved filtered file: /content/drive/My Drive/new_data/filtered_filtered_47131_cleaned.fif\n",
            "Processing file: /content/drive/My Drive/processed_data/filtered_31730_cleaned.fif\n",
            "Opening raw data file /content/drive/My Drive/processed_data/filtered_31730_cleaned.fif...\n"
          ]
        },
        {
          "output_type": "stream",
          "name": "stderr",
          "text": [
            "<ipython-input-20-fde43f790ce2>:17: RuntimeWarning: This filename (/content/drive/My Drive/processed_data/filtered_31730_cleaned.fif) does not conform to MNE naming conventions. All raw files should end with raw.fif, raw_sss.fif, raw_tsss.fif, _meg.fif, _eeg.fif, _ieeg.fif, raw.fif.gz, raw_sss.fif.gz, raw_tsss.fif.gz, _meg.fif.gz, _eeg.fif.gz or _ieeg.fif.gz\n",
            "  raw = mne.io.read_raw_fif(fif_file, preload=True)\n"
          ]
        },
        {
          "output_type": "stream",
          "name": "stdout",
          "text": [
            "    Range : 0 ... 1322499 =      0.000 ...  5289.996 secs\n",
            "Ready.\n",
            "Reading 0 ... 1322499  =      0.000 ...  5289.996 secs...\n",
            "Filtering raw data in 1 contiguous segment\n",
            "Setting up band-pass filter from 0.5 - 90 Hz\n",
            "\n",
            "FIR filter parameters\n",
            "---------------------\n",
            "Designing a one-pass, zero-phase, non-causal bandpass filter:\n",
            "- Windowed time-domain design (firwin) method\n",
            "- Hamming window with 0.0194 passband ripple and 53 dB stopband attenuation\n",
            "- Lower passband edge: 0.50\n",
            "- Lower transition bandwidth: 0.50 Hz (-6 dB cutoff frequency: 0.25 Hz)\n",
            "- Upper passband edge: 90.00 Hz\n",
            "- Upper transition bandwidth: 22.50 Hz (-6 dB cutoff frequency: 101.25 Hz)\n",
            "- Filter length: 1651 samples (6.604 s)\n",
            "\n"
          ]
        },
        {
          "output_type": "stream",
          "name": "stderr",
          "text": [
            "[Parallel(n_jobs=1)]: Done  17 tasks      | elapsed:    2.1s\n"
          ]
        },
        {
          "output_type": "stream",
          "name": "stdout",
          "text": [
            "Writing /content/drive/My Drive/new_data/filtered_filtered_31730_cleaned.fif\n"
          ]
        },
        {
          "output_type": "stream",
          "name": "stderr",
          "text": [
            "<ipython-input-20-fde43f790ce2>:24: RuntimeWarning: This filename (/content/drive/My Drive/new_data/filtered_filtered_31730_cleaned.fif) does not conform to MNE naming conventions. All raw files should end with raw.fif, raw_sss.fif, raw_tsss.fif, _meg.fif, _eeg.fif, _ieeg.fif, raw.fif.gz, raw_sss.fif.gz, raw_tsss.fif.gz, _meg.fif.gz, _eeg.fif.gz or _ieeg.fif.gz\n",
            "  raw.save(updated_file_name, overwrite=True)\n"
          ]
        },
        {
          "output_type": "stream",
          "name": "stdout",
          "text": [
            "Closing /content/drive/My Drive/new_data/filtered_filtered_31730_cleaned.fif\n",
            "[done]\n",
            "Saved filtered file: /content/drive/My Drive/new_data/filtered_filtered_31730_cleaned.fif\n",
            "Processing file: /content/drive/My Drive/processed_data/filtered_48238_cleaned.fif\n",
            "Opening raw data file /content/drive/My Drive/processed_data/filtered_48238_cleaned.fif...\n"
          ]
        },
        {
          "output_type": "stream",
          "name": "stderr",
          "text": [
            "<ipython-input-20-fde43f790ce2>:17: RuntimeWarning: This filename (/content/drive/My Drive/processed_data/filtered_48238_cleaned.fif) does not conform to MNE naming conventions. All raw files should end with raw.fif, raw_sss.fif, raw_tsss.fif, _meg.fif, _eeg.fif, _ieeg.fif, raw.fif.gz, raw_sss.fif.gz, raw_tsss.fif.gz, _meg.fif.gz, _eeg.fif.gz or _ieeg.fif.gz\n",
            "  raw = mne.io.read_raw_fif(fif_file, preload=True)\n"
          ]
        },
        {
          "output_type": "stream",
          "name": "stdout",
          "text": [
            "    Range : 0 ... 1298099 =      0.000 ...  5192.396 secs\n",
            "Ready.\n",
            "Reading 0 ... 1298099  =      0.000 ...  5192.396 secs...\n",
            "Filtering raw data in 1 contiguous segment\n",
            "Setting up band-pass filter from 0.5 - 90 Hz\n",
            "\n",
            "FIR filter parameters\n",
            "---------------------\n",
            "Designing a one-pass, zero-phase, non-causal bandpass filter:\n",
            "- Windowed time-domain design (firwin) method\n",
            "- Hamming window with 0.0194 passband ripple and 53 dB stopband attenuation\n",
            "- Lower passband edge: 0.50\n",
            "- Lower transition bandwidth: 0.50 Hz (-6 dB cutoff frequency: 0.25 Hz)\n",
            "- Upper passband edge: 90.00 Hz\n",
            "- Upper transition bandwidth: 22.50 Hz (-6 dB cutoff frequency: 101.25 Hz)\n",
            "- Filter length: 1651 samples (6.604 s)\n",
            "\n"
          ]
        },
        {
          "output_type": "stream",
          "name": "stderr",
          "text": [
            "[Parallel(n_jobs=1)]: Done  17 tasks      | elapsed:    1.5s\n"
          ]
        },
        {
          "output_type": "stream",
          "name": "stdout",
          "text": [
            "Writing /content/drive/My Drive/new_data/filtered_filtered_48238_cleaned.fif\n"
          ]
        },
        {
          "output_type": "stream",
          "name": "stderr",
          "text": [
            "<ipython-input-20-fde43f790ce2>:24: RuntimeWarning: This filename (/content/drive/My Drive/new_data/filtered_filtered_48238_cleaned.fif) does not conform to MNE naming conventions. All raw files should end with raw.fif, raw_sss.fif, raw_tsss.fif, _meg.fif, _eeg.fif, _ieeg.fif, raw.fif.gz, raw_sss.fif.gz, raw_tsss.fif.gz, _meg.fif.gz, _eeg.fif.gz or _ieeg.fif.gz\n",
            "  raw.save(updated_file_name, overwrite=True)\n"
          ]
        },
        {
          "output_type": "stream",
          "name": "stdout",
          "text": [
            "Closing /content/drive/My Drive/new_data/filtered_filtered_48238_cleaned.fif\n",
            "[done]\n",
            "Saved filtered file: /content/drive/My Drive/new_data/filtered_filtered_48238_cleaned.fif\n",
            "Processing file: /content/drive/My Drive/processed_data/filtered_47204_cleaned.fif\n",
            "Opening raw data file /content/drive/My Drive/processed_data/filtered_47204_cleaned.fif...\n"
          ]
        },
        {
          "output_type": "stream",
          "name": "stderr",
          "text": [
            "<ipython-input-20-fde43f790ce2>:17: RuntimeWarning: This filename (/content/drive/My Drive/processed_data/filtered_47204_cleaned.fif) does not conform to MNE naming conventions. All raw files should end with raw.fif, raw_sss.fif, raw_tsss.fif, _meg.fif, _eeg.fif, _ieeg.fif, raw.fif.gz, raw_sss.fif.gz, raw_tsss.fif.gz, _meg.fif.gz, _eeg.fif.gz or _ieeg.fif.gz\n",
            "  raw = mne.io.read_raw_fif(fif_file, preload=True)\n"
          ]
        },
        {
          "output_type": "stream",
          "name": "stdout",
          "text": [
            "    Range : 0 ... 1190899 =      0.000 ...  4763.596 secs\n",
            "Ready.\n",
            "Reading 0 ... 1190899  =      0.000 ...  4763.596 secs...\n",
            "Filtering raw data in 1 contiguous segment\n",
            "Setting up band-pass filter from 0.5 - 90 Hz\n",
            "\n",
            "FIR filter parameters\n",
            "---------------------\n",
            "Designing a one-pass, zero-phase, non-causal bandpass filter:\n",
            "- Windowed time-domain design (firwin) method\n",
            "- Hamming window with 0.0194 passband ripple and 53 dB stopband attenuation\n",
            "- Lower passband edge: 0.50\n",
            "- Lower transition bandwidth: 0.50 Hz (-6 dB cutoff frequency: 0.25 Hz)\n",
            "- Upper passband edge: 90.00 Hz\n",
            "- Upper transition bandwidth: 22.50 Hz (-6 dB cutoff frequency: 101.25 Hz)\n",
            "- Filter length: 1651 samples (6.604 s)\n",
            "\n"
          ]
        },
        {
          "output_type": "stream",
          "name": "stderr",
          "text": [
            "[Parallel(n_jobs=1)]: Done  17 tasks      | elapsed:    2.5s\n"
          ]
        },
        {
          "output_type": "stream",
          "name": "stdout",
          "text": [
            "Writing /content/drive/My Drive/new_data/filtered_filtered_47204_cleaned.fif\n"
          ]
        },
        {
          "output_type": "stream",
          "name": "stderr",
          "text": [
            "<ipython-input-20-fde43f790ce2>:24: RuntimeWarning: This filename (/content/drive/My Drive/new_data/filtered_filtered_47204_cleaned.fif) does not conform to MNE naming conventions. All raw files should end with raw.fif, raw_sss.fif, raw_tsss.fif, _meg.fif, _eeg.fif, _ieeg.fif, raw.fif.gz, raw_sss.fif.gz, raw_tsss.fif.gz, _meg.fif.gz, _eeg.fif.gz or _ieeg.fif.gz\n",
            "  raw.save(updated_file_name, overwrite=True)\n"
          ]
        },
        {
          "output_type": "stream",
          "name": "stdout",
          "text": [
            "Closing /content/drive/My Drive/new_data/filtered_filtered_47204_cleaned.fif\n",
            "[done]\n",
            "Saved filtered file: /content/drive/My Drive/new_data/filtered_filtered_47204_cleaned.fif\n",
            "Processing file: /content/drive/My Drive/processed_data/filtered_47324_cleaned.fif\n",
            "Opening raw data file /content/drive/My Drive/processed_data/filtered_47324_cleaned.fif...\n"
          ]
        },
        {
          "output_type": "stream",
          "name": "stderr",
          "text": [
            "<ipython-input-20-fde43f790ce2>:17: RuntimeWarning: This filename (/content/drive/My Drive/processed_data/filtered_47324_cleaned.fif) does not conform to MNE naming conventions. All raw files should end with raw.fif, raw_sss.fif, raw_tsss.fif, _meg.fif, _eeg.fif, _ieeg.fif, raw.fif.gz, raw_sss.fif.gz, raw_tsss.fif.gz, _meg.fif.gz, _eeg.fif.gz or _ieeg.fif.gz\n",
            "  raw = mne.io.read_raw_fif(fif_file, preload=True)\n"
          ]
        },
        {
          "output_type": "stream",
          "name": "stdout",
          "text": [
            "    Range : 0 ... 1396599 =      0.000 ...  5586.396 secs\n",
            "Ready.\n",
            "Reading 0 ... 1396599  =      0.000 ...  5586.396 secs...\n",
            "Filtering raw data in 1 contiguous segment\n",
            "Setting up band-pass filter from 0.5 - 90 Hz\n",
            "\n",
            "FIR filter parameters\n",
            "---------------------\n",
            "Designing a one-pass, zero-phase, non-causal bandpass filter:\n",
            "- Windowed time-domain design (firwin) method\n",
            "- Hamming window with 0.0194 passband ripple and 53 dB stopband attenuation\n",
            "- Lower passband edge: 0.50\n",
            "- Lower transition bandwidth: 0.50 Hz (-6 dB cutoff frequency: 0.25 Hz)\n",
            "- Upper passband edge: 90.00 Hz\n",
            "- Upper transition bandwidth: 22.50 Hz (-6 dB cutoff frequency: 101.25 Hz)\n",
            "- Filter length: 1651 samples (6.604 s)\n",
            "\n",
            "Writing /content/drive/My Drive/new_data/filtered_filtered_47324_cleaned.fif\n"
          ]
        },
        {
          "output_type": "stream",
          "name": "stderr",
          "text": [
            "[Parallel(n_jobs=1)]: Done  17 tasks      | elapsed:    0.9s\n",
            "<ipython-input-20-fde43f790ce2>:24: RuntimeWarning: This filename (/content/drive/My Drive/new_data/filtered_filtered_47324_cleaned.fif) does not conform to MNE naming conventions. All raw files should end with raw.fif, raw_sss.fif, raw_tsss.fif, _meg.fif, _eeg.fif, _ieeg.fif, raw.fif.gz, raw_sss.fif.gz, raw_tsss.fif.gz, _meg.fif.gz, _eeg.fif.gz or _ieeg.fif.gz\n",
            "  raw.save(updated_file_name, overwrite=True)\n"
          ]
        },
        {
          "output_type": "stream",
          "name": "stdout",
          "text": [
            "Closing /content/drive/My Drive/new_data/filtered_filtered_47324_cleaned.fif\n",
            "[done]\n",
            "Saved filtered file: /content/drive/My Drive/new_data/filtered_filtered_47324_cleaned.fif\n",
            "Processing file: /content/drive/My Drive/processed_data/filtered_43000_cleaned.fif\n",
            "Opening raw data file /content/drive/My Drive/processed_data/filtered_43000_cleaned.fif...\n"
          ]
        },
        {
          "output_type": "stream",
          "name": "stderr",
          "text": [
            "<ipython-input-20-fde43f790ce2>:17: RuntimeWarning: This filename (/content/drive/My Drive/processed_data/filtered_43000_cleaned.fif) does not conform to MNE naming conventions. All raw files should end with raw.fif, raw_sss.fif, raw_tsss.fif, _meg.fif, _eeg.fif, _ieeg.fif, raw.fif.gz, raw_sss.fif.gz, raw_tsss.fif.gz, _meg.fif.gz, _eeg.fif.gz or _ieeg.fif.gz\n",
            "  raw = mne.io.read_raw_fif(fif_file, preload=True)\n"
          ]
        },
        {
          "output_type": "stream",
          "name": "stdout",
          "text": [
            "    Range : 0 ... 1262749 =      0.000 ...  5050.996 secs\n",
            "Ready.\n",
            "Reading 0 ... 1262749  =      0.000 ...  5050.996 secs...\n",
            "Filtering raw data in 1 contiguous segment\n",
            "Setting up band-pass filter from 0.5 - 90 Hz\n",
            "\n",
            "FIR filter parameters\n",
            "---------------------\n",
            "Designing a one-pass, zero-phase, non-causal bandpass filter:\n",
            "- Windowed time-domain design (firwin) method\n",
            "- Hamming window with 0.0194 passband ripple and 53 dB stopband attenuation\n",
            "- Lower passband edge: 0.50\n",
            "- Lower transition bandwidth: 0.50 Hz (-6 dB cutoff frequency: 0.25 Hz)\n",
            "- Upper passband edge: 90.00 Hz\n",
            "- Upper transition bandwidth: 22.50 Hz (-6 dB cutoff frequency: 101.25 Hz)\n",
            "- Filter length: 1651 samples (6.604 s)\n",
            "\n",
            "Writing /content/drive/My Drive/new_data/filtered_filtered_43000_cleaned.fif\n"
          ]
        },
        {
          "output_type": "stream",
          "name": "stderr",
          "text": [
            "[Parallel(n_jobs=1)]: Done  17 tasks      | elapsed:    1.2s\n",
            "<ipython-input-20-fde43f790ce2>:24: RuntimeWarning: This filename (/content/drive/My Drive/new_data/filtered_filtered_43000_cleaned.fif) does not conform to MNE naming conventions. All raw files should end with raw.fif, raw_sss.fif, raw_tsss.fif, _meg.fif, _eeg.fif, _ieeg.fif, raw.fif.gz, raw_sss.fif.gz, raw_tsss.fif.gz, _meg.fif.gz, _eeg.fif.gz or _ieeg.fif.gz\n",
            "  raw.save(updated_file_name, overwrite=True)\n"
          ]
        },
        {
          "output_type": "stream",
          "name": "stdout",
          "text": [
            "Closing /content/drive/My Drive/new_data/filtered_filtered_43000_cleaned.fif\n",
            "[done]\n",
            "Saved filtered file: /content/drive/My Drive/new_data/filtered_filtered_43000_cleaned.fif\n",
            "All files processed successfully.\n"
          ]
        }
      ]
    },
    {
      "cell_type": "code",
      "source": [
        "# Load one of the filtered files to check metadata\n",
        "filtered_file = '/content/drive/My Drive/processed_data/filtered_31730_cleaned.fif'  # Replace with actual path\n",
        "raw = mne.io.read_raw_fif(filtered_file, preload=True)\n",
        "\n",
        "# Check highpass and lowpass values\n",
        "print(f\"Highpass: {raw.info['highpass']}, Lowpass: {raw.info['lowpass']}\")\n",
        "\n",
        "# Inspect individual channels\n",
        "for ch in raw.info['chs']:\n",
        "    print(f\"Channel {ch['ch_name']} - Highpass: {raw.info['highpass']}, Lowpass: {raw.info['lowpass']}\")"
      ],
      "metadata": {
        "colab": {
          "base_uri": "https://localhost:8080/"
        },
        "id": "7sxfPlaTLQvb",
        "outputId": "88d75619-0d70-4617-a17d-2f89f56c1878"
      },
      "execution_count": 22,
      "outputs": [
        {
          "output_type": "stream",
          "name": "stdout",
          "text": [
            "Opening raw data file /content/drive/My Drive/processed_data/filtered_31730_cleaned.fif...\n"
          ]
        },
        {
          "output_type": "stream",
          "name": "stderr",
          "text": [
            "<ipython-input-22-4c4cb00b987b>:3: RuntimeWarning: This filename (/content/drive/My Drive/processed_data/filtered_31730_cleaned.fif) does not conform to MNE naming conventions. All raw files should end with raw.fif, raw_sss.fif, raw_tsss.fif, _meg.fif, _eeg.fif, _ieeg.fif, raw.fif.gz, raw_sss.fif.gz, raw_tsss.fif.gz, _meg.fif.gz, _eeg.fif.gz or _ieeg.fif.gz\n",
            "  raw = mne.io.read_raw_fif(filtered_file, preload=True)\n"
          ]
        },
        {
          "output_type": "stream",
          "name": "stdout",
          "text": [
            "    Range : 0 ... 1322499 =      0.000 ...  5289.996 secs\n",
            "Ready.\n",
            "Reading 0 ... 1322499  =      0.000 ...  5289.996 secs...\n",
            "Highpass: 0.5, Lowpass: 90.0\n",
            "Channel T4 - Highpass: 0.5, Lowpass: 90.0\n",
            "Channel A2 - Highpass: 0.5, Lowpass: 90.0\n",
            "Channel C3 - Highpass: 0.5, Lowpass: 90.0\n",
            "Channel C4 - Highpass: 0.5, Lowpass: 90.0\n",
            "Channel A1 - Highpass: 0.5, Lowpass: 90.0\n",
            "Channel T3 - Highpass: 0.5, Lowpass: 90.0\n",
            "Channel O1 - Highpass: 0.5, Lowpass: 90.0\n",
            "Channel T5 - Highpass: 0.5, Lowpass: 90.0\n",
            "Channel O2 - Highpass: 0.5, Lowpass: 90.0\n",
            "Channel F8 - Highpass: 0.5, Lowpass: 90.0\n",
            "Channel T6 - Highpass: 0.5, Lowpass: 90.0\n",
            "Channel FZ - Highpass: 0.5, Lowpass: 90.0\n",
            "Channel FP2 - Highpass: 0.5, Lowpass: 90.0\n",
            "Channel F7 - Highpass: 0.5, Lowpass: 90.0\n",
            "Channel FP1 - Highpass: 0.5, Lowpass: 90.0\n",
            "Channel CZ - Highpass: 0.5, Lowpass: 90.0\n",
            "Channel F3 - Highpass: 0.5, Lowpass: 90.0\n",
            "Channel F4 - Highpass: 0.5, Lowpass: 90.0\n",
            "Channel FCz - Highpass: 0.5, Lowpass: 90.0\n"
          ]
        }
      ]
    },
    {
      "cell_type": "code",
      "source": [
        "import mne\n",
        "import pandas as pd\n",
        "import numpy as np\n",
        "import os\n",
        "import re\n",
        "\n",
        "# Mount Google Drive (if using Google Colab)\n",
        "from google.colab import drive\n",
        "drive.mount('/content/drive')\n",
        "\n",
        "# Define paths\n",
        "fif_folder_path = '/content/drive/My Drive/new_data'  # Replace with your EEG folder path\n",
        "behavioral_data_path = '/content/drive/My Drive/Processed_EEG_Data/behavioral_trial_data.csv'  # Replace with your behavioral data file path\n",
        "output_folder = '/content/drive/My Drive/epoched_data'\n",
        "os.makedirs(output_folder, exist_ok=True)\n",
        "\n",
        "# Load behavioral data\n",
        "behavioral_data = pd.read_csv(behavioral_data_path)\n",
        "\n",
        "# Function to extract numeric subject ID from a string (e.g., \"43000_prestress.bhv\" -> \"43000\")\n",
        "def extract_numeric_id(filename):\n",
        "    match = re.search(r'\\d+', filename)\n",
        "    return match.group() if match else None\n",
        "\n",
        "# Add a column to the behavioral data with extracted numeric IDs\n",
        "behavioral_data['numeric_id'] = behavioral_data['subid'].apply(extract_numeric_id)\n",
        "\n",
        "# List all .fif files in the folder\n",
        "fif_files = [os.path.join(fif_folder_path, f) for f in os.listdir(fif_folder_path) if f.endswith('.fif')]\n",
        "\n",
        "# Process each .fif file and align with behavioral data\n",
        "for fif_file in fif_files:\n",
        "    # Extract numeric subject ID from the .fif filename (e.g., \"47131_cleaned.fif\" -> \"47131\")\n",
        "    fif_subject_id = extract_numeric_id(os.path.basename(fif_file))\n",
        "    print(f\"Processing file: {fif_file} for Subject ID: {fif_subject_id}\")\n",
        "\n",
        "    # Filter behavioral data for the current subject ID\n",
        "    subject_behavioral_data = behavioral_data[behavioral_data['numeric_id'] == fif_subject_id]\n",
        "    if subject_behavioral_data.empty:\n",
        "        print(f\"No matching behavioral data found for Subject ID: {fif_subject_id}. Skipping.\")\n",
        "        continue\n",
        "\n",
        "    # Load the EEG data\n",
        "    raw = mne.io.read_raw_fif(fif_file, preload=True)\n",
        "    sfreq = raw.info['sfreq']  # Sampling frequency\n",
        "\n",
        "    # Create events array directly from trial times in behavioral data\n",
        "    events = []\n",
        "    for _, row in subject_behavioral_data.iterrows():\n",
        "        trial_time = row['trial_time']  # Time of event in seconds\n",
        "        sample_idx = int(trial_time * sfreq)  # Convert time to sample index\n",
        "        event_id = 1 if row['env'] == 'short' else 2  # Assign event IDs based on environment (short=1, long=2)\n",
        "        events.append([sample_idx, 0, event_id])\n",
        "\n",
        "    events = np.array(events)  # Convert to NumPy array\n",
        "\n",
        "    # Define event IDs based on your experimental design\n",
        "    event_id = {'short_travel_time': 1, 'long_travel_time': 2}\n",
        "\n",
        "    # Epoching: Segment data around decision-making events (adjust tmin and tmax as needed)\n",
        "    # Handle repeated events by dropping them ('drop') or averaging them ('merge')\n",
        "    epochs = mne.Epochs(raw, events, event_id=event_id, tmin=-0.5, tmax=1.5,\n",
        "                        baseline=(None, 0), preload=True, event_repeated='drop') # or event_repeated='merge'\n",
        "\n",
        "    # Apply baseline correction to control for variability\n",
        "    epochs.apply_baseline((None, 0))\n",
        "\n",
        "    # Save processed epochs to a new FIF file for each subject\n",
        "    output_fif_path = os.path.join(output_folder, f\"processed_{os.path.basename(fif_file)}\")\n",
        "    epochs.save(output_fif_path, overwrite=True)\n",
        "\n",
        "    print(f\"Processed data saved to: {output_fif_path}\")\n",
        "\n",
        "print(\"All files processed successfully.\")"
      ],
      "metadata": {
        "colab": {
          "base_uri": "https://localhost:8080/"
        },
        "id": "K8Y26SQ4RXKm",
        "outputId": "16d3b71f-c8fa-4549-b1cf-061fb6be7f65"
      },
      "execution_count": 28,
      "outputs": [
        {
          "output_type": "stream",
          "name": "stdout",
          "text": [
            "Drive already mounted at /content/drive; to attempt to forcibly remount, call drive.mount(\"/content/drive\", force_remount=True).\n",
            "Processing file: /content/drive/My Drive/new_data/filtered_filtered_47131_cleaned.fif for Subject ID: 47131\n",
            "Opening raw data file /content/drive/My Drive/new_data/filtered_filtered_47131_cleaned.fif...\n"
          ]
        },
        {
          "output_type": "stream",
          "name": "stderr",
          "text": [
            "<ipython-input-28-e5f3bf55f6e4>:44: RuntimeWarning: This filename (/content/drive/My Drive/new_data/filtered_filtered_47131_cleaned.fif) does not conform to MNE naming conventions. All raw files should end with raw.fif, raw_sss.fif, raw_tsss.fif, _meg.fif, _eeg.fif, _ieeg.fif, raw.fif.gz, raw_sss.fif.gz, raw_tsss.fif.gz, _meg.fif.gz, _eeg.fif.gz or _ieeg.fif.gz\n",
            "  raw = mne.io.read_raw_fif(fif_file, preload=True)\n"
          ]
        },
        {
          "output_type": "stream",
          "name": "stdout",
          "text": [
            "    Range : 0 ... 1277499 =      0.000 ...  5109.996 secs\n",
            "Ready.\n",
            "Reading 0 ... 1277499  =      0.000 ...  5109.996 secs...\n",
            "Multiple event values for single event times found. Keeping the first occurrence and dropping all others.\n",
            "Not setting metadata\n",
            "3 matching events found\n",
            "Setting baseline interval to [-0.5, 0.0] s\n",
            "Applying baseline correction (mode: mean)\n",
            "0 projection items activated\n",
            "Using data from preloaded Raw for 3 events and 501 original time points ...\n",
            "0 bad epochs dropped\n",
            "Applying baseline correction (mode: mean)\n",
            "Processed data saved to: /content/drive/My Drive/epoched_data/processed_filtered_filtered_47131_cleaned.fif\n",
            "Processing file: /content/drive/My Drive/new_data/filtered_filtered_31730_cleaned.fif for Subject ID: 31730\n",
            "Opening raw data file /content/drive/My Drive/new_data/filtered_filtered_31730_cleaned.fif...\n"
          ]
        },
        {
          "output_type": "stream",
          "name": "stderr",
          "text": [
            "<ipython-input-28-e5f3bf55f6e4>:70: RuntimeWarning: This filename (/content/drive/My Drive/epoched_data/processed_filtered_filtered_47131_cleaned.fif) does not conform to MNE naming conventions. All epochs files should end with -epo.fif, -epo.fif.gz, _epo.fif or _epo.fif.gz\n",
            "  epochs.save(output_fif_path, overwrite=True)\n",
            "<ipython-input-28-e5f3bf55f6e4>:44: RuntimeWarning: This filename (/content/drive/My Drive/new_data/filtered_filtered_31730_cleaned.fif) does not conform to MNE naming conventions. All raw files should end with raw.fif, raw_sss.fif, raw_tsss.fif, _meg.fif, _eeg.fif, _ieeg.fif, raw.fif.gz, raw_sss.fif.gz, raw_tsss.fif.gz, _meg.fif.gz, _eeg.fif.gz or _ieeg.fif.gz\n",
            "  raw = mne.io.read_raw_fif(fif_file, preload=True)\n"
          ]
        },
        {
          "output_type": "stream",
          "name": "stdout",
          "text": [
            "    Range : 0 ... 1322499 =      0.000 ...  5289.996 secs\n",
            "Ready.\n",
            "Reading 0 ... 1322499  =      0.000 ...  5289.996 secs...\n",
            "Multiple event values for single event times found. Keeping the first occurrence and dropping all others.\n",
            "Not setting metadata\n",
            "3 matching events found\n",
            "Setting baseline interval to [-0.5, 0.0] s\n",
            "Applying baseline correction (mode: mean)\n",
            "0 projection items activated\n",
            "Using data from preloaded Raw for 3 events and 501 original time points ...\n",
            "0 bad epochs dropped\n",
            "Applying baseline correction (mode: mean)\n",
            "Processed data saved to: /content/drive/My Drive/epoched_data/processed_filtered_filtered_31730_cleaned.fif\n",
            "Processing file: /content/drive/My Drive/new_data/filtered_filtered_48238_cleaned.fif for Subject ID: 48238\n",
            "Opening raw data file /content/drive/My Drive/new_data/filtered_filtered_48238_cleaned.fif...\n"
          ]
        },
        {
          "output_type": "stream",
          "name": "stderr",
          "text": [
            "<ipython-input-28-e5f3bf55f6e4>:70: RuntimeWarning: This filename (/content/drive/My Drive/epoched_data/processed_filtered_filtered_31730_cleaned.fif) does not conform to MNE naming conventions. All epochs files should end with -epo.fif, -epo.fif.gz, _epo.fif or _epo.fif.gz\n",
            "  epochs.save(output_fif_path, overwrite=True)\n",
            "<ipython-input-28-e5f3bf55f6e4>:44: RuntimeWarning: This filename (/content/drive/My Drive/new_data/filtered_filtered_48238_cleaned.fif) does not conform to MNE naming conventions. All raw files should end with raw.fif, raw_sss.fif, raw_tsss.fif, _meg.fif, _eeg.fif, _ieeg.fif, raw.fif.gz, raw_sss.fif.gz, raw_tsss.fif.gz, _meg.fif.gz, _eeg.fif.gz or _ieeg.fif.gz\n",
            "  raw = mne.io.read_raw_fif(fif_file, preload=True)\n"
          ]
        },
        {
          "output_type": "stream",
          "name": "stdout",
          "text": [
            "    Range : 0 ... 1298099 =      0.000 ...  5192.396 secs\n",
            "Ready.\n",
            "Reading 0 ... 1298099  =      0.000 ...  5192.396 secs...\n",
            "Multiple event values for single event times found. Keeping the first occurrence and dropping all others.\n",
            "Not setting metadata\n",
            "3 matching events found\n",
            "Setting baseline interval to [-0.5, 0.0] s\n",
            "Applying baseline correction (mode: mean)\n",
            "0 projection items activated\n",
            "Using data from preloaded Raw for 3 events and 501 original time points ...\n",
            "0 bad epochs dropped\n",
            "Applying baseline correction (mode: mean)\n",
            "Processed data saved to: /content/drive/My Drive/epoched_data/processed_filtered_filtered_48238_cleaned.fif\n",
            "Processing file: /content/drive/My Drive/new_data/filtered_filtered_47204_cleaned.fif for Subject ID: 47204\n",
            "Opening raw data file /content/drive/My Drive/new_data/filtered_filtered_47204_cleaned.fif...\n"
          ]
        },
        {
          "output_type": "stream",
          "name": "stderr",
          "text": [
            "<ipython-input-28-e5f3bf55f6e4>:70: RuntimeWarning: This filename (/content/drive/My Drive/epoched_data/processed_filtered_filtered_48238_cleaned.fif) does not conform to MNE naming conventions. All epochs files should end with -epo.fif, -epo.fif.gz, _epo.fif or _epo.fif.gz\n",
            "  epochs.save(output_fif_path, overwrite=True)\n",
            "<ipython-input-28-e5f3bf55f6e4>:44: RuntimeWarning: This filename (/content/drive/My Drive/new_data/filtered_filtered_47204_cleaned.fif) does not conform to MNE naming conventions. All raw files should end with raw.fif, raw_sss.fif, raw_tsss.fif, _meg.fif, _eeg.fif, _ieeg.fif, raw.fif.gz, raw_sss.fif.gz, raw_tsss.fif.gz, _meg.fif.gz, _eeg.fif.gz or _ieeg.fif.gz\n",
            "  raw = mne.io.read_raw_fif(fif_file, preload=True)\n"
          ]
        },
        {
          "output_type": "stream",
          "name": "stdout",
          "text": [
            "    Range : 0 ... 1190899 =      0.000 ...  4763.596 secs\n",
            "Ready.\n",
            "Reading 0 ... 1190899  =      0.000 ...  4763.596 secs...\n",
            "Multiple event values for single event times found. Keeping the first occurrence and dropping all others.\n",
            "Not setting metadata\n",
            "3 matching events found\n",
            "Setting baseline interval to [-0.5, 0.0] s\n",
            "Applying baseline correction (mode: mean)\n",
            "0 projection items activated\n",
            "Using data from preloaded Raw for 3 events and 501 original time points ...\n",
            "0 bad epochs dropped\n",
            "Applying baseline correction (mode: mean)\n",
            "Processed data saved to: /content/drive/My Drive/epoched_data/processed_filtered_filtered_47204_cleaned.fif\n",
            "Processing file: /content/drive/My Drive/new_data/filtered_filtered_47324_cleaned.fif for Subject ID: 47324\n",
            "Opening raw data file /content/drive/My Drive/new_data/filtered_filtered_47324_cleaned.fif...\n"
          ]
        },
        {
          "output_type": "stream",
          "name": "stderr",
          "text": [
            "<ipython-input-28-e5f3bf55f6e4>:70: RuntimeWarning: This filename (/content/drive/My Drive/epoched_data/processed_filtered_filtered_47204_cleaned.fif) does not conform to MNE naming conventions. All epochs files should end with -epo.fif, -epo.fif.gz, _epo.fif or _epo.fif.gz\n",
            "  epochs.save(output_fif_path, overwrite=True)\n",
            "<ipython-input-28-e5f3bf55f6e4>:44: RuntimeWarning: This filename (/content/drive/My Drive/new_data/filtered_filtered_47324_cleaned.fif) does not conform to MNE naming conventions. All raw files should end with raw.fif, raw_sss.fif, raw_tsss.fif, _meg.fif, _eeg.fif, _ieeg.fif, raw.fif.gz, raw_sss.fif.gz, raw_tsss.fif.gz, _meg.fif.gz, _eeg.fif.gz or _ieeg.fif.gz\n",
            "  raw = mne.io.read_raw_fif(fif_file, preload=True)\n"
          ]
        },
        {
          "output_type": "stream",
          "name": "stdout",
          "text": [
            "    Range : 0 ... 1396599 =      0.000 ...  5586.396 secs\n",
            "Ready.\n",
            "Reading 0 ... 1396599  =      0.000 ...  5586.396 secs...\n",
            "Multiple event values for single event times found. Keeping the first occurrence and dropping all others.\n",
            "Not setting metadata\n",
            "3 matching events found\n",
            "Setting baseline interval to [-0.5, 0.0] s\n",
            "Applying baseline correction (mode: mean)\n",
            "0 projection items activated\n",
            "Using data from preloaded Raw for 3 events and 501 original time points ...\n",
            "0 bad epochs dropped\n",
            "Applying baseline correction (mode: mean)\n",
            "Processed data saved to: /content/drive/My Drive/epoched_data/processed_filtered_filtered_47324_cleaned.fif\n",
            "Processing file: /content/drive/My Drive/new_data/filtered_filtered_43000_cleaned.fif for Subject ID: 43000\n",
            "Opening raw data file /content/drive/My Drive/new_data/filtered_filtered_43000_cleaned.fif...\n"
          ]
        },
        {
          "output_type": "stream",
          "name": "stderr",
          "text": [
            "<ipython-input-28-e5f3bf55f6e4>:70: RuntimeWarning: This filename (/content/drive/My Drive/epoched_data/processed_filtered_filtered_47324_cleaned.fif) does not conform to MNE naming conventions. All epochs files should end with -epo.fif, -epo.fif.gz, _epo.fif or _epo.fif.gz\n",
            "  epochs.save(output_fif_path, overwrite=True)\n",
            "<ipython-input-28-e5f3bf55f6e4>:44: RuntimeWarning: This filename (/content/drive/My Drive/new_data/filtered_filtered_43000_cleaned.fif) does not conform to MNE naming conventions. All raw files should end with raw.fif, raw_sss.fif, raw_tsss.fif, _meg.fif, _eeg.fif, _ieeg.fif, raw.fif.gz, raw_sss.fif.gz, raw_tsss.fif.gz, _meg.fif.gz, _eeg.fif.gz or _ieeg.fif.gz\n",
            "  raw = mne.io.read_raw_fif(fif_file, preload=True)\n"
          ]
        },
        {
          "output_type": "stream",
          "name": "stdout",
          "text": [
            "    Range : 0 ... 1262749 =      0.000 ...  5050.996 secs\n",
            "Ready.\n",
            "Reading 0 ... 1262749  =      0.000 ...  5050.996 secs...\n",
            "Multiple event values for single event times found. Keeping the first occurrence and dropping all others.\n",
            "Not setting metadata\n",
            "3 matching events found\n",
            "Setting baseline interval to [-0.5, 0.0] s\n",
            "Applying baseline correction (mode: mean)\n",
            "0 projection items activated\n",
            "Using data from preloaded Raw for 3 events and 501 original time points ...\n",
            "0 bad epochs dropped\n",
            "Applying baseline correction (mode: mean)\n",
            "Processed data saved to: /content/drive/My Drive/epoched_data/processed_filtered_filtered_43000_cleaned.fif\n",
            "All files processed successfully.\n"
          ]
        },
        {
          "output_type": "stream",
          "name": "stderr",
          "text": [
            "<ipython-input-28-e5f3bf55f6e4>:70: RuntimeWarning: This filename (/content/drive/My Drive/epoched_data/processed_filtered_filtered_43000_cleaned.fif) does not conform to MNE naming conventions. All epochs files should end with -epo.fif, -epo.fif.gz, _epo.fif or _epo.fif.gz\n",
            "  epochs.save(output_fif_path, overwrite=True)\n"
          ]
        }
      ]
    },
    {
      "cell_type": "code",
      "source": [
        "import mne\n",
        "import pandas as pd\n",
        "\n",
        "# Load one of the processed epochs files (replace with an actual file name)\n",
        "epochs = mne.read_epochs('/content/drive/My Drive/epoched_data/processed_filtered_filtered_31730_cleaned.fif', preload=True)\n",
        "\n",
        "# Display basic information about the epochs\n",
        "print(epochs)"
      ],
      "metadata": {
        "colab": {
          "base_uri": "https://localhost:8080/"
        },
        "id": "K9yiwtpLSKQs",
        "outputId": "698a6715-44a5-4fb5-d334-27e3324ed97e"
      },
      "execution_count": 29,
      "outputs": [
        {
          "output_type": "stream",
          "name": "stdout",
          "text": [
            "Reading /content/drive/My Drive/epoched_data/processed_filtered_filtered_31730_cleaned.fif ...\n",
            "    Found the data of interest:\n",
            "        t =    -500.00 ...    1500.00 ms\n",
            "        0 CTF compensation matrices available\n",
            "Not setting metadata\n",
            "3 matching events found\n",
            "No baseline correction applied\n",
            "0 projection items activated\n",
            "<EpochsFIF | 3 events (all good), -0.5 – 1.5 s (baseline -0.5 – 0 s), ~252 kB, data loaded,\n",
            " 'short_travel_time': 2\n",
            " 'long_travel_time': 1>\n"
          ]
        },
        {
          "output_type": "stream",
          "name": "stderr",
          "text": [
            "<ipython-input-29-7457df27b9a0>:5: RuntimeWarning: This filename (/content/drive/My Drive/epoched_data/processed_filtered_filtered_31730_cleaned.fif) does not conform to MNE naming conventions. All epochs files should end with -epo.fif, -epo.fif.gz, _epo.fif or _epo.fif.gz\n",
            "  epochs = mne.read_epochs('/content/drive/My Drive/epoched_data/processed_filtered_filtered_31730_cleaned.fif', preload=True)\n"
          ]
        }
      ]
    }
  ]
}